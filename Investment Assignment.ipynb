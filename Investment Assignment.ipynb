{
 "cells": [
  {
   "cell_type": "markdown",
   "id": "69e20f28",
   "metadata": {},
   "source": [
    "# <font color = 'dark blue'> Investment Assignment </font>\n",
    "\n",
    "Analyzing for Spark Funds, on global trends in investments so that they can take the investment decisions effectively."
   ]
  },
  {
   "cell_type": "markdown",
   "id": "afc77448",
   "metadata": {},
   "source": [
    "The two minor constraints of spark funds,\n",
    "-  Invest between **5 to 15 million** USD per round of investment\n",
    "-  Invest only in **English-speaking countries** because of the ease of communication with the companies it would invest in"
   ]
  },
  {
   "cell_type": "markdown",
   "id": "8ad81553",
   "metadata": {},
   "source": [
    "**Business objective:** The objective is to identify the best sectors, countries, and a suitable investment type for making investments.\n",
    "\n",
    "Our goal was divided into three sub goals. 1) Investment type analysis, 2) Country analysis & 3) Sector analysis.\n",
    "But first, let's start by importing data"
   ]
  },
  {
   "cell_type": "markdown",
   "id": "d2bb05b1",
   "metadata": {},
   "source": [
    "### <font color = blue>Loading the companies and rounds data</font>"
   ]
  },
  {
   "cell_type": "code",
   "execution_count": 607,
   "id": "97ecf284",
   "metadata": {},
   "outputs": [],
   "source": [
    "import numpy as np\n",
    "import pandas as pd\n",
    "import matplotlib.pyplot as plt \n",
    "import seaborn as sns"
   ]
  },
  {
   "cell_type": "code",
   "execution_count": 1351,
   "id": "0dc02409",
   "metadata": {},
   "outputs": [
    {
     "data": {
      "text/html": [
       "<div>\n",
       "<style scoped>\n",
       "    .dataframe tbody tr th:only-of-type {\n",
       "        vertical-align: middle;\n",
       "    }\n",
       "\n",
       "    .dataframe tbody tr th {\n",
       "        vertical-align: top;\n",
       "    }\n",
       "\n",
       "    .dataframe thead th {\n",
       "        text-align: right;\n",
       "    }\n",
       "</style>\n",
       "<table border=\"1\" class=\"dataframe\">\n",
       "  <thead>\n",
       "    <tr style=\"text-align: right;\">\n",
       "      <th></th>\n",
       "      <th>permalink</th>\n",
       "      <th>name</th>\n",
       "      <th>homepage_url</th>\n",
       "      <th>category_list</th>\n",
       "      <th>status</th>\n",
       "      <th>country_code</th>\n",
       "      <th>state_code</th>\n",
       "      <th>region</th>\n",
       "      <th>city</th>\n",
       "      <th>founded_at</th>\n",
       "    </tr>\n",
       "  </thead>\n",
       "  <tbody>\n",
       "    <tr>\n",
       "      <th>0</th>\n",
       "      <td>/Organization/-Fame</td>\n",
       "      <td>#fame</td>\n",
       "      <td>http://livfame.com</td>\n",
       "      <td>Media</td>\n",
       "      <td>operating</td>\n",
       "      <td>IND</td>\n",
       "      <td>16</td>\n",
       "      <td>Mumbai</td>\n",
       "      <td>Mumbai</td>\n",
       "      <td>NaN</td>\n",
       "    </tr>\n",
       "    <tr>\n",
       "      <th>1</th>\n",
       "      <td>/Organization/-Qounter</td>\n",
       "      <td>:Qounter</td>\n",
       "      <td>http://www.qounter.com</td>\n",
       "      <td>Application Platforms|Real Time|Social Network...</td>\n",
       "      <td>operating</td>\n",
       "      <td>USA</td>\n",
       "      <td>DE</td>\n",
       "      <td>DE - Other</td>\n",
       "      <td>Delaware City</td>\n",
       "      <td>04-09-2014</td>\n",
       "    </tr>\n",
       "    <tr>\n",
       "      <th>2</th>\n",
       "      <td>/Organization/-The-One-Of-Them-Inc-</td>\n",
       "      <td>(THE) ONE of THEM,Inc.</td>\n",
       "      <td>http://oneofthem.jp</td>\n",
       "      <td>Apps|Games|Mobile</td>\n",
       "      <td>operating</td>\n",
       "      <td>NaN</td>\n",
       "      <td>NaN</td>\n",
       "      <td>NaN</td>\n",
       "      <td>NaN</td>\n",
       "      <td>NaN</td>\n",
       "    </tr>\n",
       "    <tr>\n",
       "      <th>3</th>\n",
       "      <td>/Organization/0-6-Com</td>\n",
       "      <td>0-6.com</td>\n",
       "      <td>http://www.0-6.com</td>\n",
       "      <td>Curated Web</td>\n",
       "      <td>operating</td>\n",
       "      <td>CHN</td>\n",
       "      <td>22</td>\n",
       "      <td>Beijing</td>\n",
       "      <td>Beijing</td>\n",
       "      <td>01-01-2007</td>\n",
       "    </tr>\n",
       "    <tr>\n",
       "      <th>4</th>\n",
       "      <td>/Organization/004-Technologies</td>\n",
       "      <td>004 Technologies</td>\n",
       "      <td>http://004gmbh.de/en/004-interact</td>\n",
       "      <td>Software</td>\n",
       "      <td>operating</td>\n",
       "      <td>USA</td>\n",
       "      <td>IL</td>\n",
       "      <td>Springfield, Illinois</td>\n",
       "      <td>Champaign</td>\n",
       "      <td>01-01-2010</td>\n",
       "    </tr>\n",
       "  </tbody>\n",
       "</table>\n",
       "</div>"
      ],
      "text/plain": [
       "                             permalink                    name  \\\n",
       "0                  /Organization/-Fame                   #fame   \n",
       "1               /Organization/-Qounter                :Qounter   \n",
       "2  /Organization/-The-One-Of-Them-Inc-  (THE) ONE of THEM,Inc.   \n",
       "3                /Organization/0-6-Com                 0-6.com   \n",
       "4       /Organization/004-Technologies        004 Technologies   \n",
       "\n",
       "                        homepage_url  \\\n",
       "0                 http://livfame.com   \n",
       "1             http://www.qounter.com   \n",
       "2                http://oneofthem.jp   \n",
       "3                 http://www.0-6.com   \n",
       "4  http://004gmbh.de/en/004-interact   \n",
       "\n",
       "                                       category_list     status country_code  \\\n",
       "0                                              Media  operating          IND   \n",
       "1  Application Platforms|Real Time|Social Network...  operating          USA   \n",
       "2                                  Apps|Games|Mobile  operating          NaN   \n",
       "3                                        Curated Web  operating          CHN   \n",
       "4                                           Software  operating          USA   \n",
       "\n",
       "  state_code                 region           city  founded_at  \n",
       "0         16                 Mumbai         Mumbai         NaN  \n",
       "1         DE             DE - Other  Delaware City  04-09-2014  \n",
       "2        NaN                    NaN            NaN         NaN  \n",
       "3         22                Beijing        Beijing  01-01-2007  \n",
       "4         IL  Springfield, Illinois      Champaign  01-01-2010  "
      ]
     },
     "execution_count": 1351,
     "metadata": {},
     "output_type": "execute_result"
    }
   ],
   "source": [
    "### Loading companies.csv file\n",
    "companies = pd.read_csv(\"companies.csv\")\n",
    "companies.head()"
   ]
  },
  {
   "cell_type": "code",
   "execution_count": 1353,
   "id": "b6a7513d",
   "metadata": {},
   "outputs": [
    {
     "data": {
      "text/html": [
       "<div>\n",
       "<style scoped>\n",
       "    .dataframe tbody tr th:only-of-type {\n",
       "        vertical-align: middle;\n",
       "    }\n",
       "\n",
       "    .dataframe tbody tr th {\n",
       "        vertical-align: top;\n",
       "    }\n",
       "\n",
       "    .dataframe thead th {\n",
       "        text-align: right;\n",
       "    }\n",
       "</style>\n",
       "<table border=\"1\" class=\"dataframe\">\n",
       "  <thead>\n",
       "    <tr style=\"text-align: right;\">\n",
       "      <th></th>\n",
       "      <th>company_permalink</th>\n",
       "      <th>funding_round_permalink</th>\n",
       "      <th>funding_round_type</th>\n",
       "      <th>funding_round_code</th>\n",
       "      <th>funded_at</th>\n",
       "      <th>raised_amount_usd</th>\n",
       "    </tr>\n",
       "  </thead>\n",
       "  <tbody>\n",
       "    <tr>\n",
       "      <th>0</th>\n",
       "      <td>/organization/-fame</td>\n",
       "      <td>/funding-round/9a01d05418af9f794eebff7ace91f638</td>\n",
       "      <td>venture</td>\n",
       "      <td>B</td>\n",
       "      <td>05-01-2015</td>\n",
       "      <td>10000000.00</td>\n",
       "    </tr>\n",
       "    <tr>\n",
       "      <th>1</th>\n",
       "      <td>/ORGANIZATION/-QOUNTER</td>\n",
       "      <td>/funding-round/22dacff496eb7acb2b901dec1dfe5633</td>\n",
       "      <td>venture</td>\n",
       "      <td>A</td>\n",
       "      <td>14-10-2014</td>\n",
       "      <td>NaN</td>\n",
       "    </tr>\n",
       "    <tr>\n",
       "      <th>2</th>\n",
       "      <td>/organization/-qounter</td>\n",
       "      <td>/funding-round/b44fbb94153f6cdef13083530bb48030</td>\n",
       "      <td>seed</td>\n",
       "      <td>NaN</td>\n",
       "      <td>01-03-2014</td>\n",
       "      <td>700000.00</td>\n",
       "    </tr>\n",
       "    <tr>\n",
       "      <th>3</th>\n",
       "      <td>/ORGANIZATION/-THE-ONE-OF-THEM-INC-</td>\n",
       "      <td>/funding-round/650b8f704416801069bb178a1418776b</td>\n",
       "      <td>venture</td>\n",
       "      <td>B</td>\n",
       "      <td>30-01-2014</td>\n",
       "      <td>3406878.00</td>\n",
       "    </tr>\n",
       "    <tr>\n",
       "      <th>4</th>\n",
       "      <td>/organization/0-6-com</td>\n",
       "      <td>/funding-round/5727accaeaa57461bd22a9bdd945382d</td>\n",
       "      <td>venture</td>\n",
       "      <td>A</td>\n",
       "      <td>19-03-2008</td>\n",
       "      <td>2000000.00</td>\n",
       "    </tr>\n",
       "  </tbody>\n",
       "</table>\n",
       "</div>"
      ],
      "text/plain": [
       "                     company_permalink  \\\n",
       "0                  /organization/-fame   \n",
       "1               /ORGANIZATION/-QOUNTER   \n",
       "2               /organization/-qounter   \n",
       "3  /ORGANIZATION/-THE-ONE-OF-THEM-INC-   \n",
       "4                /organization/0-6-com   \n",
       "\n",
       "                           funding_round_permalink funding_round_type  \\\n",
       "0  /funding-round/9a01d05418af9f794eebff7ace91f638            venture   \n",
       "1  /funding-round/22dacff496eb7acb2b901dec1dfe5633            venture   \n",
       "2  /funding-round/b44fbb94153f6cdef13083530bb48030               seed   \n",
       "3  /funding-round/650b8f704416801069bb178a1418776b            venture   \n",
       "4  /funding-round/5727accaeaa57461bd22a9bdd945382d            venture   \n",
       "\n",
       "  funding_round_code   funded_at  raised_amount_usd  \n",
       "0                  B  05-01-2015        10000000.00  \n",
       "1                  A  14-10-2014                NaN  \n",
       "2                NaN  01-03-2014          700000.00  \n",
       "3                  B  30-01-2014         3406878.00  \n",
       "4                  A  19-03-2008         2000000.00  "
      ]
     },
     "execution_count": 1353,
     "metadata": {},
     "output_type": "execute_result"
    }
   ],
   "source": [
    "### Loading rounds2.csv file\n",
    "rounds2 = pd.read_csv(\"rounds2.csv\")\n",
    "rounds2.head()"
   ]
  },
  {
   "cell_type": "markdown",
   "id": "fb0028bf",
   "metadata": {},
   "source": [
    "### <font color=blue>Data Understanding</font>"
   ]
  },
  {
   "cell_type": "code",
   "execution_count": 1354,
   "id": "de1e99b1",
   "metadata": {},
   "outputs": [
    {
     "data": {
      "text/plain": [
       "(114949, 6)"
      ]
     },
     "execution_count": 1354,
     "metadata": {},
     "output_type": "execute_result"
    }
   ],
   "source": [
    "rounds2.shape"
   ]
  },
  {
   "cell_type": "code",
   "execution_count": 1355,
   "id": "7887d2c2",
   "metadata": {},
   "outputs": [
    {
     "data": {
      "text/plain": [
       "(66368, 10)"
      ]
     },
     "execution_count": 1355,
     "metadata": {},
     "output_type": "execute_result"
    }
   ],
   "source": [
    "companies.shape"
   ]
  },
  {
   "cell_type": "code",
   "execution_count": 1356,
   "id": "5ac0349d",
   "metadata": {},
   "outputs": [
    {
     "name": "stdout",
     "output_type": "stream",
     "text": [
      "<class 'pandas.core.frame.DataFrame'>\n",
      "RangeIndex: 114949 entries, 0 to 114948\n",
      "Data columns (total 6 columns):\n",
      " #   Column                   Non-Null Count   Dtype  \n",
      "---  ------                   --------------   -----  \n",
      " 0   company_permalink        114949 non-null  object \n",
      " 1   funding_round_permalink  114949 non-null  object \n",
      " 2   funding_round_type       114949 non-null  object \n",
      " 3   funding_round_code       31140 non-null   object \n",
      " 4   funded_at                114949 non-null  object \n",
      " 5   raised_amount_usd        94959 non-null   float64\n",
      "dtypes: float64(1), object(5)\n",
      "memory usage: 5.3+ MB\n"
     ]
    }
   ],
   "source": [
    "rounds2.info()"
   ]
  },
  {
   "cell_type": "code",
   "execution_count": 1357,
   "id": "22affde5",
   "metadata": {},
   "outputs": [
    {
     "name": "stdout",
     "output_type": "stream",
     "text": [
      "<class 'pandas.core.frame.DataFrame'>\n",
      "RangeIndex: 66368 entries, 0 to 66367\n",
      "Data columns (total 10 columns):\n",
      " #   Column         Non-Null Count  Dtype \n",
      "---  ------         --------------  ----- \n",
      " 0   permalink      66368 non-null  object\n",
      " 1   name           66367 non-null  object\n",
      " 2   homepage_url   61310 non-null  object\n",
      " 3   category_list  63220 non-null  object\n",
      " 4   status         66368 non-null  object\n",
      " 5   country_code   59410 non-null  object\n",
      " 6   state_code     57821 non-null  object\n",
      " 7   region         58338 non-null  object\n",
      " 8   city           58340 non-null  object\n",
      " 9   founded_at     51147 non-null  object\n",
      "dtypes: object(10)\n",
      "memory usage: 5.1+ MB\n"
     ]
    }
   ],
   "source": [
    "companies.info()"
   ]
  },
  {
   "cell_type": "code",
   "execution_count": 1358,
   "id": "393060db",
   "metadata": {},
   "outputs": [
    {
     "data": {
      "text/plain": [
       "company_permalink              0\n",
       "funding_round_permalink        0\n",
       "funding_round_type             0\n",
       "funding_round_code         83809\n",
       "funded_at                      0\n",
       "raised_amount_usd          19990\n",
       "dtype: int64"
      ]
     },
     "execution_count": 1358,
     "metadata": {},
     "output_type": "execute_result"
    }
   ],
   "source": [
    "# checking column-wise null values\n",
    "rounds2.isnull().sum()"
   ]
  },
  {
   "cell_type": "code",
   "execution_count": 1359,
   "id": "a3efa808",
   "metadata": {},
   "outputs": [
    {
     "data": {
      "text/plain": [
       "company_permalink          0.00\n",
       "funding_round_permalink    0.00\n",
       "funding_round_type         0.00\n",
       "funding_round_code        88.81\n",
       "funded_at                  0.00\n",
       "raised_amount_usd         21.18\n",
       "dtype: float64"
      ]
     },
     "execution_count": 1359,
     "metadata": {},
     "output_type": "execute_result"
    }
   ],
   "source": [
    "# checking column-wise null values percentage\n",
    "round(100*(rounds2.isnull().sum()/len(master_df.index)),2)"
   ]
  },
  {
   "cell_type": "code",
   "execution_count": 1360,
   "id": "d28cb0da",
   "metadata": {},
   "outputs": [
    {
     "data": {
      "text/plain": [
       "permalink            0\n",
       "name                 1\n",
       "homepage_url      5058\n",
       "category_list     3148\n",
       "status               0\n",
       "country_code      6958\n",
       "state_code        8547\n",
       "region            8030\n",
       "city              8028\n",
       "founded_at       15221\n",
       "dtype: int64"
      ]
     },
     "execution_count": 1360,
     "metadata": {},
     "output_type": "execute_result"
    }
   ],
   "source": [
    "# checking column-wise null values\n",
    "companies.isnull().sum()"
   ]
  },
  {
   "cell_type": "code",
   "execution_count": 1361,
   "id": "a772c1f8",
   "metadata": {},
   "outputs": [
    {
     "data": {
      "text/plain": [
       "permalink        0.00\n",
       "name             0.00\n",
       "homepage_url     5.36\n",
       "category_list    3.34\n",
       "status           0.00\n",
       "country_code     7.37\n",
       "state_code       9.06\n",
       "region           8.51\n",
       "city             8.51\n",
       "founded_at      16.13\n",
       "dtype: float64"
      ]
     },
     "execution_count": 1361,
     "metadata": {},
     "output_type": "execute_result"
    }
   ],
   "source": [
    "# checking column-wise null values percentage\n",
    "round(100*(companies.isnull().sum()/len(master_df.index)),2)"
   ]
  },
  {
   "cell_type": "markdown",
   "id": "198321e2",
   "metadata": {},
   "source": [
    "### <font color=blue> Checkpoint 1: Data Cleaning</font>"
   ]
  },
  {
   "attachments": {},
   "cell_type": "markdown",
   "id": "9c9a8369",
   "metadata": {},
   "source": [
    "We have null values in the following columns.<br>\n",
    "\n",
    "**In Company DataFrame:**<br>\n",
    "*name, homepage_url, category_list, country_code, state_code, region, city, founded_at.*<br>\n",
    "\n",
    "**In rounds2 DataFrame:**<br>\n",
    "*funding_round_code, raised_amount_usd*<br>\n",
    "1. We have only one company without a `name`, so dropping it.\n",
    "2. For our analysis, we don't need `homepage_url`. So removing the column itself.\n",
    "3. Since we are going to focus on country later on, I am not going to either remove `state_code, region, city` or trying to impute them, since it won't make sense to impute with mode for these fields which cause incorrect info of the company. So just keeping them as it is.\n",
    "4. For `Category_list and country code`, we can't drop any data. Again it won't make sense to impute a contry code with mode. And for category_list, I am going to focus them on category analysis. So keeping both of them as it is.\n",
    "5. `founded_at` is useful only when we identify our final company which we decide to go with. So not going to spend time with it for now.\n",
    "6. For our analysis, we don't need `funding_round_permalink`. So removing the column itself.\n",
    "7. Again `funding_round_code` is useful when we decide on the company in the final stage. So, I am not going to worry about it for now.\n",
    "8. `raised_amount_usd` is kind of our target variable. So obviously `dropping any rows will be risky`. And I am `not trying to impute` them by any way. Because,\n",
    "- The null may mean that the company has not raised money at all. \n",
    "- And also Haven't imputed or removed the nulls and not removed outliers, Because In our data analysis, \n",
    "    - We are filtering data based on count of funding type\n",
    "    - Filtering data by adding the investments across countries\n",
    "    - Filtering data by counting investments across sectors.\n",
    "- So if we remove, we may lose some data and go into different funding type & if we impute it may create a biased one across country or sectors. So not doing either of it and proceeding as it is.<br>\n",
    "\n",
    "So lets perform the actions required`( 1, 2 & 6 only)`.\n"
   ]
  },
  {
   "cell_type": "code",
   "execution_count": 1362,
   "id": "811ab89e",
   "metadata": {},
   "outputs": [
    {
     "data": {
      "text/plain": [
       "(66368, 10)"
      ]
     },
     "execution_count": 1362,
     "metadata": {},
     "output_type": "execute_result"
    }
   ],
   "source": [
    "# 1.We have only one company without a name and the status was closed, so it won't affect our analysis. so dropping it.\n",
    "# let's check the shape before deleting.\n",
    "companies.shape"
   ]
  },
  {
   "cell_type": "code",
   "execution_count": 1363,
   "id": "ca2011f8",
   "metadata": {},
   "outputs": [],
   "source": [
    "companies = companies[~ companies.name.isnull()]"
   ]
  },
  {
   "cell_type": "code",
   "execution_count": 1364,
   "id": "1c5d702c",
   "metadata": {},
   "outputs": [
    {
     "data": {
      "text/plain": [
       "(66367, 10)"
      ]
     },
     "execution_count": 1364,
     "metadata": {},
     "output_type": "execute_result"
    }
   ],
   "source": [
    "# Let's check shape once again\n",
    "companies.shape"
   ]
  },
  {
   "cell_type": "markdown",
   "id": "76f13e2b",
   "metadata": {},
   "source": [
    "We have deleted one row which didn't have name of the comapany. "
   ]
  },
  {
   "cell_type": "code",
   "execution_count": 1365,
   "id": "aed0a4e2",
   "metadata": {},
   "outputs": [
    {
     "data": {
      "text/html": [
       "<div>\n",
       "<style scoped>\n",
       "    .dataframe tbody tr th:only-of-type {\n",
       "        vertical-align: middle;\n",
       "    }\n",
       "\n",
       "    .dataframe tbody tr th {\n",
       "        vertical-align: top;\n",
       "    }\n",
       "\n",
       "    .dataframe thead th {\n",
       "        text-align: right;\n",
       "    }\n",
       "</style>\n",
       "<table border=\"1\" class=\"dataframe\">\n",
       "  <thead>\n",
       "    <tr style=\"text-align: right;\">\n",
       "      <th></th>\n",
       "      <th>permalink</th>\n",
       "      <th>name</th>\n",
       "      <th>category_list</th>\n",
       "      <th>status</th>\n",
       "      <th>country_code</th>\n",
       "      <th>state_code</th>\n",
       "      <th>region</th>\n",
       "      <th>city</th>\n",
       "      <th>founded_at</th>\n",
       "    </tr>\n",
       "  </thead>\n",
       "  <tbody>\n",
       "    <tr>\n",
       "      <th>0</th>\n",
       "      <td>/Organization/-Fame</td>\n",
       "      <td>#fame</td>\n",
       "      <td>Media</td>\n",
       "      <td>operating</td>\n",
       "      <td>IND</td>\n",
       "      <td>16</td>\n",
       "      <td>Mumbai</td>\n",
       "      <td>Mumbai</td>\n",
       "      <td>NaN</td>\n",
       "    </tr>\n",
       "    <tr>\n",
       "      <th>1</th>\n",
       "      <td>/Organization/-Qounter</td>\n",
       "      <td>:Qounter</td>\n",
       "      <td>Application Platforms|Real Time|Social Network...</td>\n",
       "      <td>operating</td>\n",
       "      <td>USA</td>\n",
       "      <td>DE</td>\n",
       "      <td>DE - Other</td>\n",
       "      <td>Delaware City</td>\n",
       "      <td>04-09-2014</td>\n",
       "    </tr>\n",
       "    <tr>\n",
       "      <th>2</th>\n",
       "      <td>/Organization/-The-One-Of-Them-Inc-</td>\n",
       "      <td>(THE) ONE of THEM,Inc.</td>\n",
       "      <td>Apps|Games|Mobile</td>\n",
       "      <td>operating</td>\n",
       "      <td>NaN</td>\n",
       "      <td>NaN</td>\n",
       "      <td>NaN</td>\n",
       "      <td>NaN</td>\n",
       "      <td>NaN</td>\n",
       "    </tr>\n",
       "  </tbody>\n",
       "</table>\n",
       "</div>"
      ],
      "text/plain": [
       "                             permalink                    name  \\\n",
       "0                  /Organization/-Fame                   #fame   \n",
       "1               /Organization/-Qounter                :Qounter   \n",
       "2  /Organization/-The-One-Of-Them-Inc-  (THE) ONE of THEM,Inc.   \n",
       "\n",
       "                                       category_list     status country_code  \\\n",
       "0                                              Media  operating          IND   \n",
       "1  Application Platforms|Real Time|Social Network...  operating          USA   \n",
       "2                                  Apps|Games|Mobile  operating          NaN   \n",
       "\n",
       "  state_code      region           city  founded_at  \n",
       "0         16      Mumbai         Mumbai         NaN  \n",
       "1         DE  DE - Other  Delaware City  04-09-2014  \n",
       "2        NaN         NaN            NaN         NaN  "
      ]
     },
     "execution_count": 1365,
     "metadata": {},
     "output_type": "execute_result"
    }
   ],
   "source": [
    "# 2.For our analysis, we don't need homepage_url. So removing the column itself.\n",
    "companies = companies.drop(['homepage_url'],axis=1)\n",
    "companies.head(3)"
   ]
  },
  {
   "cell_type": "code",
   "execution_count": 1366,
   "id": "b6dd6a5e",
   "metadata": {},
   "outputs": [
    {
     "data": {
      "text/html": [
       "<div>\n",
       "<style scoped>\n",
       "    .dataframe tbody tr th:only-of-type {\n",
       "        vertical-align: middle;\n",
       "    }\n",
       "\n",
       "    .dataframe tbody tr th {\n",
       "        vertical-align: top;\n",
       "    }\n",
       "\n",
       "    .dataframe thead th {\n",
       "        text-align: right;\n",
       "    }\n",
       "</style>\n",
       "<table border=\"1\" class=\"dataframe\">\n",
       "  <thead>\n",
       "    <tr style=\"text-align: right;\">\n",
       "      <th></th>\n",
       "      <th>company_permalink</th>\n",
       "      <th>funding_round_type</th>\n",
       "      <th>funding_round_code</th>\n",
       "      <th>funded_at</th>\n",
       "      <th>raised_amount_usd</th>\n",
       "    </tr>\n",
       "  </thead>\n",
       "  <tbody>\n",
       "    <tr>\n",
       "      <th>0</th>\n",
       "      <td>/organization/-fame</td>\n",
       "      <td>venture</td>\n",
       "      <td>B</td>\n",
       "      <td>05-01-2015</td>\n",
       "      <td>10000000.00</td>\n",
       "    </tr>\n",
       "    <tr>\n",
       "      <th>1</th>\n",
       "      <td>/ORGANIZATION/-QOUNTER</td>\n",
       "      <td>venture</td>\n",
       "      <td>A</td>\n",
       "      <td>14-10-2014</td>\n",
       "      <td>NaN</td>\n",
       "    </tr>\n",
       "    <tr>\n",
       "      <th>2</th>\n",
       "      <td>/organization/-qounter</td>\n",
       "      <td>seed</td>\n",
       "      <td>NaN</td>\n",
       "      <td>01-03-2014</td>\n",
       "      <td>700000.00</td>\n",
       "    </tr>\n",
       "  </tbody>\n",
       "</table>\n",
       "</div>"
      ],
      "text/plain": [
       "        company_permalink funding_round_type funding_round_code   funded_at  \\\n",
       "0     /organization/-fame            venture                  B  05-01-2015   \n",
       "1  /ORGANIZATION/-QOUNTER            venture                  A  14-10-2014   \n",
       "2  /organization/-qounter               seed                NaN  01-03-2014   \n",
       "\n",
       "   raised_amount_usd  \n",
       "0        10000000.00  \n",
       "1                NaN  \n",
       "2          700000.00  "
      ]
     },
     "execution_count": 1366,
     "metadata": {},
     "output_type": "execute_result"
    }
   ],
   "source": [
    "# 6.For our analysis, we don't need funding_round_permalink. So removing the column itself.\n",
    "rounds2 = rounds2.drop(['funding_round_permalink'],axis=1)\n",
    "rounds2.head(3)"
   ]
  },
  {
   "cell_type": "markdown",
   "id": "f7754413",
   "metadata": {},
   "source": [
    "#### Merging two dataframes into one."
   ]
  },
  {
   "cell_type": "code",
   "execution_count": 1367,
   "id": "79e4d26d",
   "metadata": {},
   "outputs": [],
   "source": [
    "# Let's convert both the permalink fields from the dataframes into smaller case to maintain data consistency.\n",
    "companies.permalink = companies.permalink.str.lower()\n",
    "rounds2.company_permalink = rounds2.company_permalink.str.lower()"
   ]
  },
  {
   "cell_type": "code",
   "execution_count": 1368,
   "id": "8a009421",
   "metadata": {},
   "outputs": [
    {
     "data": {
      "text/html": [
       "<div>\n",
       "<style scoped>\n",
       "    .dataframe tbody tr th:only-of-type {\n",
       "        vertical-align: middle;\n",
       "    }\n",
       "\n",
       "    .dataframe tbody tr th {\n",
       "        vertical-align: top;\n",
       "    }\n",
       "\n",
       "    .dataframe thead th {\n",
       "        text-align: right;\n",
       "    }\n",
       "</style>\n",
       "<table border=\"1\" class=\"dataframe\">\n",
       "  <thead>\n",
       "    <tr style=\"text-align: right;\">\n",
       "      <th></th>\n",
       "      <th>permalink</th>\n",
       "      <th>name</th>\n",
       "      <th>category_list</th>\n",
       "      <th>status</th>\n",
       "      <th>country_code</th>\n",
       "      <th>state_code</th>\n",
       "      <th>region</th>\n",
       "      <th>city</th>\n",
       "      <th>founded_at</th>\n",
       "      <th>company_permalink</th>\n",
       "      <th>funding_round_type</th>\n",
       "      <th>funding_round_code</th>\n",
       "      <th>funded_at</th>\n",
       "      <th>raised_amount_usd</th>\n",
       "    </tr>\n",
       "  </thead>\n",
       "  <tbody>\n",
       "    <tr>\n",
       "      <th>0</th>\n",
       "      <td>/organization/-fame</td>\n",
       "      <td>#fame</td>\n",
       "      <td>Media</td>\n",
       "      <td>operating</td>\n",
       "      <td>IND</td>\n",
       "      <td>16</td>\n",
       "      <td>Mumbai</td>\n",
       "      <td>Mumbai</td>\n",
       "      <td>NaN</td>\n",
       "      <td>/organization/-fame</td>\n",
       "      <td>venture</td>\n",
       "      <td>B</td>\n",
       "      <td>05-01-2015</td>\n",
       "      <td>10000000.00</td>\n",
       "    </tr>\n",
       "    <tr>\n",
       "      <th>1</th>\n",
       "      <td>/organization/-qounter</td>\n",
       "      <td>:Qounter</td>\n",
       "      <td>Application Platforms|Real Time|Social Network...</td>\n",
       "      <td>operating</td>\n",
       "      <td>USA</td>\n",
       "      <td>DE</td>\n",
       "      <td>DE - Other</td>\n",
       "      <td>Delaware City</td>\n",
       "      <td>04-09-2014</td>\n",
       "      <td>/organization/-qounter</td>\n",
       "      <td>venture</td>\n",
       "      <td>A</td>\n",
       "      <td>14-10-2014</td>\n",
       "      <td>NaN</td>\n",
       "    </tr>\n",
       "    <tr>\n",
       "      <th>2</th>\n",
       "      <td>/organization/-qounter</td>\n",
       "      <td>:Qounter</td>\n",
       "      <td>Application Platforms|Real Time|Social Network...</td>\n",
       "      <td>operating</td>\n",
       "      <td>USA</td>\n",
       "      <td>DE</td>\n",
       "      <td>DE - Other</td>\n",
       "      <td>Delaware City</td>\n",
       "      <td>04-09-2014</td>\n",
       "      <td>/organization/-qounter</td>\n",
       "      <td>seed</td>\n",
       "      <td>NaN</td>\n",
       "      <td>01-03-2014</td>\n",
       "      <td>700000.00</td>\n",
       "    </tr>\n",
       "    <tr>\n",
       "      <th>3</th>\n",
       "      <td>/organization/-the-one-of-them-inc-</td>\n",
       "      <td>(THE) ONE of THEM,Inc.</td>\n",
       "      <td>Apps|Games|Mobile</td>\n",
       "      <td>operating</td>\n",
       "      <td>NaN</td>\n",
       "      <td>NaN</td>\n",
       "      <td>NaN</td>\n",
       "      <td>NaN</td>\n",
       "      <td>NaN</td>\n",
       "      <td>/organization/-the-one-of-them-inc-</td>\n",
       "      <td>venture</td>\n",
       "      <td>B</td>\n",
       "      <td>30-01-2014</td>\n",
       "      <td>3406878.00</td>\n",
       "    </tr>\n",
       "    <tr>\n",
       "      <th>4</th>\n",
       "      <td>/organization/0-6-com</td>\n",
       "      <td>0-6.com</td>\n",
       "      <td>Curated Web</td>\n",
       "      <td>operating</td>\n",
       "      <td>CHN</td>\n",
       "      <td>22</td>\n",
       "      <td>Beijing</td>\n",
       "      <td>Beijing</td>\n",
       "      <td>01-01-2007</td>\n",
       "      <td>/organization/0-6-com</td>\n",
       "      <td>venture</td>\n",
       "      <td>A</td>\n",
       "      <td>19-03-2008</td>\n",
       "      <td>2000000.00</td>\n",
       "    </tr>\n",
       "  </tbody>\n",
       "</table>\n",
       "</div>"
      ],
      "text/plain": [
       "                             permalink                    name  \\\n",
       "0                  /organization/-fame                   #fame   \n",
       "1               /organization/-qounter                :Qounter   \n",
       "2               /organization/-qounter                :Qounter   \n",
       "3  /organization/-the-one-of-them-inc-  (THE) ONE of THEM,Inc.   \n",
       "4                /organization/0-6-com                 0-6.com   \n",
       "\n",
       "                                       category_list     status country_code  \\\n",
       "0                                              Media  operating          IND   \n",
       "1  Application Platforms|Real Time|Social Network...  operating          USA   \n",
       "2  Application Platforms|Real Time|Social Network...  operating          USA   \n",
       "3                                  Apps|Games|Mobile  operating          NaN   \n",
       "4                                        Curated Web  operating          CHN   \n",
       "\n",
       "  state_code      region           city  founded_at  \\\n",
       "0         16      Mumbai         Mumbai         NaN   \n",
       "1         DE  DE - Other  Delaware City  04-09-2014   \n",
       "2         DE  DE - Other  Delaware City  04-09-2014   \n",
       "3        NaN         NaN            NaN         NaN   \n",
       "4         22     Beijing        Beijing  01-01-2007   \n",
       "\n",
       "                     company_permalink funding_round_type funding_round_code  \\\n",
       "0                  /organization/-fame            venture                  B   \n",
       "1               /organization/-qounter            venture                  A   \n",
       "2               /organization/-qounter               seed                NaN   \n",
       "3  /organization/-the-one-of-them-inc-            venture                  B   \n",
       "4                /organization/0-6-com            venture                  A   \n",
       "\n",
       "    funded_at  raised_amount_usd  \n",
       "0  05-01-2015        10000000.00  \n",
       "1  14-10-2014                NaN  \n",
       "2  01-03-2014          700000.00  \n",
       "3  30-01-2014         3406878.00  \n",
       "4  19-03-2008         2000000.00  "
      ]
     },
     "execution_count": 1368,
     "metadata": {},
     "output_type": "execute_result"
    }
   ],
   "source": [
    "#Merging the two dfs - companies & rounds\n",
    "master_df = pd.merge(companies,rounds2,how = \"inner\", left_on = \"permalink\", right_on = \"company_permalink\")\n",
    "master_df.head()"
   ]
  },
  {
   "cell_type": "code",
   "execution_count": 1369,
   "id": "a30c33b7",
   "metadata": {},
   "outputs": [
    {
     "data": {
      "text/plain": [
       "operating   78.43\n",
       "acquired    10.22\n",
       "closed       7.58\n",
       "ipo          3.76\n",
       "Name: status, dtype: float64"
      ]
     },
     "execution_count": 1369,
     "metadata": {},
     "output_type": "execute_result"
    }
   ],
   "source": [
    "#displaying % of each category\n",
    "master_df.status.value_counts(normalize=True)*100"
   ]
  },
  {
   "cell_type": "markdown",
   "id": "1633c066",
   "metadata": {},
   "source": [
    "We can see that, there are some closed companies in the dataframe. Let's remove them in the final step when we decide the company. For now, let's keep as it is."
   ]
  },
  {
   "cell_type": "code",
   "execution_count": 1370,
   "id": "abaf714d",
   "metadata": {},
   "outputs": [
    {
     "data": {
      "text/html": [
       "<div>\n",
       "<style scoped>\n",
       "    .dataframe tbody tr th:only-of-type {\n",
       "        vertical-align: middle;\n",
       "    }\n",
       "\n",
       "    .dataframe tbody tr th {\n",
       "        vertical-align: top;\n",
       "    }\n",
       "\n",
       "    .dataframe thead th {\n",
       "        text-align: right;\n",
       "    }\n",
       "</style>\n",
       "<table border=\"1\" class=\"dataframe\">\n",
       "  <thead>\n",
       "    <tr style=\"text-align: right;\">\n",
       "      <th></th>\n",
       "      <th>permalink</th>\n",
       "      <th>name</th>\n",
       "      <th>category_list</th>\n",
       "      <th>status</th>\n",
       "      <th>country_code</th>\n",
       "      <th>state_code</th>\n",
       "      <th>region</th>\n",
       "      <th>city</th>\n",
       "      <th>founded_at</th>\n",
       "      <th>funding_round_type</th>\n",
       "      <th>funding_round_code</th>\n",
       "      <th>funded_at</th>\n",
       "      <th>raised_amount_usd</th>\n",
       "    </tr>\n",
       "  </thead>\n",
       "  <tbody>\n",
       "    <tr>\n",
       "      <th>0</th>\n",
       "      <td>/organization/-fame</td>\n",
       "      <td>#fame</td>\n",
       "      <td>Media</td>\n",
       "      <td>operating</td>\n",
       "      <td>IND</td>\n",
       "      <td>16</td>\n",
       "      <td>Mumbai</td>\n",
       "      <td>Mumbai</td>\n",
       "      <td>NaN</td>\n",
       "      <td>venture</td>\n",
       "      <td>B</td>\n",
       "      <td>05-01-2015</td>\n",
       "      <td>10000000.00</td>\n",
       "    </tr>\n",
       "    <tr>\n",
       "      <th>1</th>\n",
       "      <td>/organization/-qounter</td>\n",
       "      <td>:Qounter</td>\n",
       "      <td>Application Platforms|Real Time|Social Network...</td>\n",
       "      <td>operating</td>\n",
       "      <td>USA</td>\n",
       "      <td>DE</td>\n",
       "      <td>DE - Other</td>\n",
       "      <td>Delaware City</td>\n",
       "      <td>04-09-2014</td>\n",
       "      <td>venture</td>\n",
       "      <td>A</td>\n",
       "      <td>14-10-2014</td>\n",
       "      <td>NaN</td>\n",
       "    </tr>\n",
       "    <tr>\n",
       "      <th>2</th>\n",
       "      <td>/organization/-qounter</td>\n",
       "      <td>:Qounter</td>\n",
       "      <td>Application Platforms|Real Time|Social Network...</td>\n",
       "      <td>operating</td>\n",
       "      <td>USA</td>\n",
       "      <td>DE</td>\n",
       "      <td>DE - Other</td>\n",
       "      <td>Delaware City</td>\n",
       "      <td>04-09-2014</td>\n",
       "      <td>seed</td>\n",
       "      <td>NaN</td>\n",
       "      <td>01-03-2014</td>\n",
       "      <td>700000.00</td>\n",
       "    </tr>\n",
       "    <tr>\n",
       "      <th>3</th>\n",
       "      <td>/organization/-the-one-of-them-inc-</td>\n",
       "      <td>(THE) ONE of THEM,Inc.</td>\n",
       "      <td>Apps|Games|Mobile</td>\n",
       "      <td>operating</td>\n",
       "      <td>NaN</td>\n",
       "      <td>NaN</td>\n",
       "      <td>NaN</td>\n",
       "      <td>NaN</td>\n",
       "      <td>NaN</td>\n",
       "      <td>venture</td>\n",
       "      <td>B</td>\n",
       "      <td>30-01-2014</td>\n",
       "      <td>3406878.00</td>\n",
       "    </tr>\n",
       "    <tr>\n",
       "      <th>4</th>\n",
       "      <td>/organization/0-6-com</td>\n",
       "      <td>0-6.com</td>\n",
       "      <td>Curated Web</td>\n",
       "      <td>operating</td>\n",
       "      <td>CHN</td>\n",
       "      <td>22</td>\n",
       "      <td>Beijing</td>\n",
       "      <td>Beijing</td>\n",
       "      <td>01-01-2007</td>\n",
       "      <td>venture</td>\n",
       "      <td>A</td>\n",
       "      <td>19-03-2008</td>\n",
       "      <td>2000000.00</td>\n",
       "    </tr>\n",
       "  </tbody>\n",
       "</table>\n",
       "</div>"
      ],
      "text/plain": [
       "                             permalink                    name  \\\n",
       "0                  /organization/-fame                   #fame   \n",
       "1               /organization/-qounter                :Qounter   \n",
       "2               /organization/-qounter                :Qounter   \n",
       "3  /organization/-the-one-of-them-inc-  (THE) ONE of THEM,Inc.   \n",
       "4                /organization/0-6-com                 0-6.com   \n",
       "\n",
       "                                       category_list     status country_code  \\\n",
       "0                                              Media  operating          IND   \n",
       "1  Application Platforms|Real Time|Social Network...  operating          USA   \n",
       "2  Application Platforms|Real Time|Social Network...  operating          USA   \n",
       "3                                  Apps|Games|Mobile  operating          NaN   \n",
       "4                                        Curated Web  operating          CHN   \n",
       "\n",
       "  state_code      region           city  founded_at funding_round_type  \\\n",
       "0         16      Mumbai         Mumbai         NaN            venture   \n",
       "1         DE  DE - Other  Delaware City  04-09-2014            venture   \n",
       "2         DE  DE - Other  Delaware City  04-09-2014               seed   \n",
       "3        NaN         NaN            NaN         NaN            venture   \n",
       "4         22     Beijing        Beijing  01-01-2007            venture   \n",
       "\n",
       "  funding_round_code   funded_at  raised_amount_usd  \n",
       "0                  B  05-01-2015        10000000.00  \n",
       "1                  A  14-10-2014                NaN  \n",
       "2                NaN  01-03-2014          700000.00  \n",
       "3                  B  30-01-2014         3406878.00  \n",
       "4                  A  19-03-2008         2000000.00  "
      ]
     },
     "execution_count": 1370,
     "metadata": {},
     "output_type": "execute_result"
    }
   ],
   "source": [
    "#Removing reduntant column\n",
    "master_df = master_df.drop(['company_permalink'],axis = 1)\n",
    "master_df.head()"
   ]
  },
  {
   "cell_type": "markdown",
   "id": "bb9ee04e",
   "metadata": {},
   "source": [
    "Let's fill in our answers in Table 1.1."
   ]
  },
  {
   "cell_type": "markdown",
   "id": "4a6dd8d1",
   "metadata": {},
   "source": [
    "### Table 1.1\n",
    "Understand the Data Set \n",
    "#### Q1. How many unique companies are present in rounds2?"
   ]
  },
  {
   "cell_type": "code",
   "execution_count": 1371,
   "id": "77f163d1",
   "metadata": {},
   "outputs": [
    {
     "data": {
      "text/plain": [
       "66373"
      ]
     },
     "execution_count": 1371,
     "metadata": {},
     "output_type": "execute_result"
    }
   ],
   "source": [
    "# 66373 unique companies are there in rounds dataframe.\n",
    "rounds2.company_permalink.nunique()"
   ]
  },
  {
   "cell_type": "markdown",
   "id": "2a914843",
   "metadata": {},
   "source": [
    "#### Q2. How many unique companies are present in the companies file?"
   ]
  },
  {
   "cell_type": "code",
   "execution_count": 1372,
   "id": "6b6e5741",
   "metadata": {},
   "outputs": [
    {
     "data": {
      "text/plain": [
       "66367"
      ]
     },
     "execution_count": 1372,
     "metadata": {},
     "output_type": "execute_result"
    }
   ],
   "source": [
    "# 66368 unique companies are there in companies dataframe.(I have removed the one without name)\n",
    "companies.permalink.nunique()"
   ]
  },
  {
   "attachments": {},
   "cell_type": "markdown",
   "id": "d8479df5",
   "metadata": {},
   "source": [
    "#### Q3. In the companies data frame, which column can be used as the  unique key for each company? Write the name of the column."
   ]
  },
  {
   "cell_type": "markdown",
   "id": "37c0bb40",
   "metadata": {},
   "source": [
    "`permalink` is the unique key for each of the company in companies dataframe"
   ]
  },
  {
   "cell_type": "markdown",
   "id": "8eb189c4",
   "metadata": {},
   "source": [
    "#### Q4. Are there any companies in the rounds2 file which are not  present in companies ? Answer Y/N."
   ]
  },
  {
   "cell_type": "code",
   "execution_count": 1373,
   "id": "0fb97718",
   "metadata": {},
   "outputs": [
    {
     "data": {
      "text/plain": [
       "6"
      ]
     },
     "execution_count": 1373,
     "metadata": {},
     "output_type": "execute_result"
    }
   ],
   "source": [
    "# We have 6 companies in rounds2 dataframe which are not in companies dataframe. So Yes.\n",
    "len(rounds2.company_permalink.unique()) - len(companies.permalink.unique())"
   ]
  },
  {
   "cell_type": "markdown",
   "id": "efb8b9ea",
   "metadata": {},
   "source": [
    "#### Q5. Merge the two data frames so that all  variables (columns)  in the companies frame are added to the rounds2 data frame. Name the merged frame master_frame. How many observations are present in master_frame ?"
   ]
  },
  {
   "cell_type": "code",
   "execution_count": 1374,
   "id": "f8a2f771",
   "metadata": {},
   "outputs": [
    {
     "data": {
      "text/plain": [
       "114908"
      ]
     },
     "execution_count": 1374,
     "metadata": {},
     "output_type": "execute_result"
    }
   ],
   "source": [
    "# We have 1,14,908 observations in the master_df\n",
    "master_df.shape[0]"
   ]
  },
  {
   "cell_type": "markdown",
   "id": "321295cb",
   "metadata": {},
   "source": [
    "### <font color=blue> Checkpoint 2: Funding Type Analysis </font> \n",
    "Since Spark Funds wants to choose one of these four investment type - `venture, angel, seed, and private equity`\n",
    "Let's filter our data accordingly."
   ]
  },
  {
   "cell_type": "code",
   "execution_count": 1375,
   "id": "fee2d736",
   "metadata": {},
   "outputs": [],
   "source": [
    "# filtering as funding_round_type = venture, angel, seed, and private equity.\n",
    "master_df = master_df[master_df.funding_round_type.isin(['venture','seed','angel','private_equity'])]"
   ]
  },
  {
   "cell_type": "code",
   "execution_count": 1376,
   "id": "73cab240",
   "metadata": {},
   "outputs": [
    {
     "data": {
      "text/plain": [
       "venture           55487\n",
       "seed              30503\n",
       "angel              6092\n",
       "private_equity     2285\n",
       "Name: funding_round_type, dtype: int64"
      ]
     },
     "execution_count": 1376,
     "metadata": {},
     "output_type": "execute_result"
    }
   ],
   "source": [
    "# Let's cross check once.\n",
    "master_df.funding_round_type.value_counts()"
   ]
  },
  {
   "cell_type": "code",
   "execution_count": 1377,
   "id": "9552175b",
   "metadata": {},
   "outputs": [
    {
     "data": {
      "text/plain": [
       "(94367, 13)"
      ]
     },
     "execution_count": 1377,
     "metadata": {},
     "output_type": "execute_result"
    }
   ],
   "source": [
    "# It was 114908, now it is 94367\n",
    "master_df.shape"
   ]
  },
  {
   "cell_type": "markdown",
   "id": "ee33aef2",
   "metadata": {},
   "source": [
    "Let's see the distribution of investments across funding type by mean and median."
   ]
  },
  {
   "cell_type": "code",
   "execution_count": 1378,
   "id": "20b14d44",
   "metadata": {},
   "outputs": [
    {
     "data": {
      "text/html": [
       "<div>\n",
       "<style scoped>\n",
       "    .dataframe tbody tr th:only-of-type {\n",
       "        vertical-align: middle;\n",
       "    }\n",
       "\n",
       "    .dataframe tbody tr th {\n",
       "        vertical-align: top;\n",
       "    }\n",
       "\n",
       "    .dataframe thead th {\n",
       "        text-align: right;\n",
       "    }\n",
       "</style>\n",
       "<table border=\"1\" class=\"dataframe\">\n",
       "  <thead>\n",
       "    <tr style=\"text-align: right;\">\n",
       "      <th></th>\n",
       "      <th>mean</th>\n",
       "      <th>median</th>\n",
       "    </tr>\n",
       "    <tr>\n",
       "      <th>funding_round_type</th>\n",
       "      <th></th>\n",
       "      <th></th>\n",
       "    </tr>\n",
       "  </thead>\n",
       "  <tbody>\n",
       "    <tr>\n",
       "      <th>angel</th>\n",
       "      <td>958891.77</td>\n",
       "      <td>400000.00</td>\n",
       "    </tr>\n",
       "    <tr>\n",
       "      <th>private_equity</th>\n",
       "      <td>73308593.03</td>\n",
       "      <td>20000000.00</td>\n",
       "    </tr>\n",
       "    <tr>\n",
       "      <th>seed</th>\n",
       "      <td>719833.20</td>\n",
       "      <td>275000.00</td>\n",
       "    </tr>\n",
       "    <tr>\n",
       "      <th>venture</th>\n",
       "      <td>11748701.57</td>\n",
       "      <td>5000000.00</td>\n",
       "    </tr>\n",
       "  </tbody>\n",
       "</table>\n",
       "</div>"
      ],
      "text/plain": [
       "                          mean      median\n",
       "funding_round_type                        \n",
       "angel                958891.77   400000.00\n",
       "private_equity     73308593.03 20000000.00\n",
       "seed                 719833.20   275000.00\n",
       "venture            11748701.57  5000000.00"
      ]
     },
     "execution_count": 1378,
     "metadata": {},
     "output_type": "execute_result"
    }
   ],
   "source": [
    "pd.options.display.float_format= '{:.2f}'.format\n",
    "master_df.pivot_table(values='raised_amount_usd', index='funding_round_type', aggfunc=('mean','median'))"
   ]
  },
  {
   "cell_type": "markdown",
   "id": "22ee2329",
   "metadata": {},
   "source": [
    "Since `Mean` will  be affected by outliers, Let's take `median` as our representative value of investments for each funding types."
   ]
  },
  {
   "cell_type": "markdown",
   "id": "24571ef6",
   "metadata": {},
   "source": [
    "As we want to invest between 5 to 15 million USD. Median for `venture is 5M`. For others it was either below 5M or above 15M. So I am going with `venture`."
   ]
  },
  {
   "cell_type": "code",
   "execution_count": 1379,
   "id": "848f0bd4",
   "metadata": {},
   "outputs": [
    {
     "data": {
      "text/plain": [
       "venture           55487\n",
       "seed              30503\n",
       "angel              6092\n",
       "private_equity     2285\n",
       "Name: funding_round_type, dtype: int64"
      ]
     },
     "execution_count": 1379,
     "metadata": {},
     "output_type": "execute_result"
    }
   ],
   "source": [
    "# before filtering\n",
    "master_df.funding_round_type.value_counts()"
   ]
  },
  {
   "cell_type": "code",
   "execution_count": 1380,
   "id": "c5c5565b",
   "metadata": {},
   "outputs": [],
   "source": [
    "# Filtering the data so it only contains the 'venture' funding type.\n",
    "main_FT_df = master_df[master_df.funding_round_type == 'venture']"
   ]
  },
  {
   "cell_type": "code",
   "execution_count": 1381,
   "id": "37659e78",
   "metadata": {},
   "outputs": [
    {
     "data": {
      "text/plain": [
       "venture    55487\n",
       "Name: funding_round_type, dtype: int64"
      ]
     },
     "execution_count": 1381,
     "metadata": {},
     "output_type": "execute_result"
    }
   ],
   "source": [
    "# after filtering\n",
    "main_FT_df.funding_round_type.value_counts()"
   ]
  },
  {
   "cell_type": "markdown",
   "id": "f9856e2a",
   "metadata": {},
   "source": [
    "Let's fill in our answers in Table 2.1."
   ]
  },
  {
   "cell_type": "markdown",
   "id": "1782eadd",
   "metadata": {},
   "source": [
    "### Table 2.1\n",
    "Representative Values of Investments for Each of these Funding Types"
   ]
  },
  {
   "cell_type": "markdown",
   "id": "9ed1098f",
   "metadata": {},
   "source": [
    "I am considering `Median` as our representative value, Since it `won't affect by outliers`. Eventhough we removed most of the outliers, Let's not risk and just go with `Median`."
   ]
  },
  {
   "cell_type": "markdown",
   "id": "45216b20",
   "metadata": {},
   "source": [
    "<font color=green> Let's use the pivot table used before and answer the following questions.</font>"
   ]
  },
  {
   "cell_type": "markdown",
   "id": "4b246e5c",
   "metadata": {},
   "source": [
    "#### 1. Representative funding amount of venture type?"
   ]
  },
  {
   "cell_type": "markdown",
   "id": "2f280d35",
   "metadata": {},
   "source": [
    "`5000000.00`"
   ]
  },
  {
   "cell_type": "markdown",
   "id": "9a2abc90",
   "metadata": {},
   "source": [
    "#### 2. Representative funding amount of angel type?"
   ]
  },
  {
   "cell_type": "markdown",
   "id": "565700fe",
   "metadata": {},
   "source": [
    "`400000.00`"
   ]
  },
  {
   "cell_type": "markdown",
   "id": "947313be",
   "metadata": {},
   "source": [
    "#### 3. Representative funding amount of seed type?"
   ]
  },
  {
   "cell_type": "markdown",
   "id": "d5a0b2bc",
   "metadata": {},
   "source": [
    "`275000.00`"
   ]
  },
  {
   "cell_type": "markdown",
   "id": "fd2f8161",
   "metadata": {},
   "source": [
    "#### 4. Representative funding amount of private equity type?"
   ]
  },
  {
   "cell_type": "markdown",
   "id": "5f1362e9",
   "metadata": {},
   "source": [
    "`20000000.00`"
   ]
  },
  {
   "cell_type": "markdown",
   "id": "011ee185",
   "metadata": {},
   "source": [
    "#### 5. Considering that Spark Funds wants to invest between 5 to 15 million USD per  investment round, which investment type is the most suitable for them?"
   ]
  },
  {
   "cell_type": "markdown",
   "id": "1b576986",
   "metadata": {},
   "source": [
    "`venture` investment type is more suitable for Spark Funds. Since the reprentative funding amount. i.e. Median for `venture is 5M`."
   ]
  },
  {
   "cell_type": "markdown",
   "id": "bc2bd2ce",
   "metadata": {},
   "source": [
    "### <font color=blue> Checkpoint 3: Country Analysis </font>\n",
    "Spark Funds wants to see the top nine countries which have received the highest total funding.\n",
    "1. For the chosen investment type, make a data frame named `top9 with the top nine countries` (based on the `total investment amount each country` has received)\n",
    "2. Identify the `top three English-speaking` countries in the data frame top9."
   ]
  },
  {
   "cell_type": "code",
   "execution_count": 1382,
   "id": "fa5c2306",
   "metadata": {},
   "outputs": [
    {
     "data": {
      "text/html": [
       "<div>\n",
       "<style scoped>\n",
       "    .dataframe tbody tr th:only-of-type {\n",
       "        vertical-align: middle;\n",
       "    }\n",
       "\n",
       "    .dataframe tbody tr th {\n",
       "        vertical-align: top;\n",
       "    }\n",
       "\n",
       "    .dataframe thead th {\n",
       "        text-align: right;\n",
       "    }\n",
       "</style>\n",
       "<table border=\"1\" class=\"dataframe\">\n",
       "  <thead>\n",
       "    <tr style=\"text-align: right;\">\n",
       "      <th></th>\n",
       "      <th>raised_amount_usd</th>\n",
       "    </tr>\n",
       "    <tr>\n",
       "      <th>country_code</th>\n",
       "      <th></th>\n",
       "    </tr>\n",
       "  </thead>\n",
       "  <tbody>\n",
       "    <tr>\n",
       "      <th>USA</th>\n",
       "      <td>422510842796.00</td>\n",
       "    </tr>\n",
       "    <tr>\n",
       "      <th>CHN</th>\n",
       "      <td>39835418773.00</td>\n",
       "    </tr>\n",
       "    <tr>\n",
       "      <th>GBR</th>\n",
       "      <td>20245627416.00</td>\n",
       "    </tr>\n",
       "    <tr>\n",
       "      <th>IND</th>\n",
       "      <td>14391858718.00</td>\n",
       "    </tr>\n",
       "    <tr>\n",
       "      <th>CAN</th>\n",
       "      <td>9583332317.00</td>\n",
       "    </tr>\n",
       "    <tr>\n",
       "      <th>FRA</th>\n",
       "      <td>7259536732.00</td>\n",
       "    </tr>\n",
       "    <tr>\n",
       "      <th>ISR</th>\n",
       "      <td>6907514579.00</td>\n",
       "    </tr>\n",
       "    <tr>\n",
       "      <th>DEU</th>\n",
       "      <td>6346959822.00</td>\n",
       "    </tr>\n",
       "    <tr>\n",
       "      <th>JPN</th>\n",
       "      <td>3363676611.00</td>\n",
       "    </tr>\n",
       "  </tbody>\n",
       "</table>\n",
       "</div>"
      ],
      "text/plain": [
       "              raised_amount_usd\n",
       "country_code                   \n",
       "USA             422510842796.00\n",
       "CHN              39835418773.00\n",
       "GBR              20245627416.00\n",
       "IND              14391858718.00\n",
       "CAN               9583332317.00\n",
       "FRA               7259536732.00\n",
       "ISR               6907514579.00\n",
       "DEU               6346959822.00\n",
       "JPN               3363676611.00"
      ]
     },
     "execution_count": 1382,
     "metadata": {},
     "output_type": "execute_result"
    }
   ],
   "source": [
    "# Taking country-wise, total investment amount & getting top 9 of them.\n",
    "country_wise_investment = main_FT_df.pivot_table(values='raised_amount_usd', index='country_code', aggfunc=('sum')).sort_values(by='raised_amount_usd', ascending=False)[0:9]\n",
    "country_wise_investment"
   ]
  },
  {
   "cell_type": "code",
   "execution_count": 1383,
   "id": "02716fd6",
   "metadata": {},
   "outputs": [],
   "source": [
    "# Creating top9 dataframe with the top nine countries which has highest total investment.\n",
    "top9 = main_FT_df[main_FT_df.country_code.isin(country_wise_investment.index)]"
   ]
  },
  {
   "cell_type": "code",
   "execution_count": 1384,
   "id": "8501ac51",
   "metadata": {},
   "outputs": [
    {
     "data": {
      "text/plain": [
       "array(['IND', 'USA', 'CHN', 'CAN', 'GBR', 'FRA', 'JPN', 'DEU', 'ISR'],\n",
       "      dtype=object)"
      ]
     },
     "execution_count": 1384,
     "metadata": {},
     "output_type": "execute_result"
    }
   ],
   "source": [
    "# The nine countries are,\n",
    "top9.country_code.unique()"
   ]
  },
  {
   "cell_type": "markdown",
   "id": "2f52e914",
   "metadata": {},
   "source": [
    "We have top 9 countries now, let's find wheater they are english speaking country or not.<br>\n",
    "For our analysis, considering a country to be English speaking only if English is one of the official languages in that country. With the wiki link given to us. I have created a dataframe wheater the country is English speaking country or not."
   ]
  },
  {
   "cell_type": "code",
   "execution_count": 1385,
   "id": "c6812054",
   "metadata": {},
   "outputs": [],
   "source": [
    "# English speaking countries\n",
    "countries = pd.DataFrame({'country': ['United States','United Kingdom','Canada','China','Israel','India','Germany','Japan','France'],\n",
    "                          'country_code':['USA', 'GBR', 'CAN', 'CHN', 'ISR', 'IND', 'DEU', 'JPN', 'FRA'],\n",
    "                          'English_Speaking_Ind':['Yes','Yes','Yes','No','No','No','No','No','No']})"
   ]
  },
  {
   "cell_type": "code",
   "execution_count": 1386,
   "id": "22526ccd",
   "metadata": {},
   "outputs": [
    {
     "data": {
      "text/html": [
       "<div>\n",
       "<style scoped>\n",
       "    .dataframe tbody tr th:only-of-type {\n",
       "        vertical-align: middle;\n",
       "    }\n",
       "\n",
       "    .dataframe tbody tr th {\n",
       "        vertical-align: top;\n",
       "    }\n",
       "\n",
       "    .dataframe thead th {\n",
       "        text-align: right;\n",
       "    }\n",
       "</style>\n",
       "<table border=\"1\" class=\"dataframe\">\n",
       "  <thead>\n",
       "    <tr style=\"text-align: right;\">\n",
       "      <th></th>\n",
       "      <th>country</th>\n",
       "      <th>country_code</th>\n",
       "      <th>English_Speaking_Ind</th>\n",
       "    </tr>\n",
       "  </thead>\n",
       "  <tbody>\n",
       "    <tr>\n",
       "      <th>0</th>\n",
       "      <td>United States</td>\n",
       "      <td>USA</td>\n",
       "      <td>Yes</td>\n",
       "    </tr>\n",
       "    <tr>\n",
       "      <th>1</th>\n",
       "      <td>United Kingdom</td>\n",
       "      <td>GBR</td>\n",
       "      <td>Yes</td>\n",
       "    </tr>\n",
       "    <tr>\n",
       "      <th>2</th>\n",
       "      <td>Canada</td>\n",
       "      <td>CAN</td>\n",
       "      <td>Yes</td>\n",
       "    </tr>\n",
       "    <tr>\n",
       "      <th>3</th>\n",
       "      <td>China</td>\n",
       "      <td>CHN</td>\n",
       "      <td>No</td>\n",
       "    </tr>\n",
       "    <tr>\n",
       "      <th>4</th>\n",
       "      <td>Israel</td>\n",
       "      <td>ISR</td>\n",
       "      <td>No</td>\n",
       "    </tr>\n",
       "    <tr>\n",
       "      <th>5</th>\n",
       "      <td>India</td>\n",
       "      <td>IND</td>\n",
       "      <td>No</td>\n",
       "    </tr>\n",
       "    <tr>\n",
       "      <th>6</th>\n",
       "      <td>Germany</td>\n",
       "      <td>DEU</td>\n",
       "      <td>No</td>\n",
       "    </tr>\n",
       "    <tr>\n",
       "      <th>7</th>\n",
       "      <td>Japan</td>\n",
       "      <td>JPN</td>\n",
       "      <td>No</td>\n",
       "    </tr>\n",
       "    <tr>\n",
       "      <th>8</th>\n",
       "      <td>France</td>\n",
       "      <td>FRA</td>\n",
       "      <td>No</td>\n",
       "    </tr>\n",
       "  </tbody>\n",
       "</table>\n",
       "</div>"
      ],
      "text/plain": [
       "          country country_code English_Speaking_Ind\n",
       "0   United States          USA                  Yes\n",
       "1  United Kingdom          GBR                  Yes\n",
       "2          Canada          CAN                  Yes\n",
       "3           China          CHN                   No\n",
       "4          Israel          ISR                   No\n",
       "5           India          IND                   No\n",
       "6         Germany          DEU                   No\n",
       "7           Japan          JPN                   No\n",
       "8          France          FRA                   No"
      ]
     },
     "execution_count": 1386,
     "metadata": {},
     "output_type": "execute_result"
    }
   ],
   "source": [
    "countries"
   ]
  },
  {
   "cell_type": "markdown",
   "id": "a8c43e9d",
   "metadata": {},
   "source": [
    "We have only three countries speaking english. And with the above `country_wise_investment pivot table`, Now we clearly have the top 3 countries which speaks english. They are: `USA, GBR and CAN`"
   ]
  },
  {
   "cell_type": "code",
   "execution_count": 1387,
   "id": "6393cbea",
   "metadata": {},
   "outputs": [],
   "source": [
    "# top three English-speaking countries in the data frame top9\n",
    "top3 = top9[top9.country_code.isin(['USA','GBR','CAN'])]"
   ]
  },
  {
   "cell_type": "code",
   "execution_count": 1388,
   "id": "a7f5a81b",
   "metadata": {},
   "outputs": [
    {
     "data": {
      "text/plain": [
       "USA    38372\n",
       "GBR     2303\n",
       "CAN     1346\n",
       "Name: country_code, dtype: int64"
      ]
     },
     "execution_count": 1388,
     "metadata": {},
     "output_type": "execute_result"
    }
   ],
   "source": [
    "# Let's check once,\n",
    "top3.country_code.value_counts()"
   ]
  },
  {
   "cell_type": "markdown",
   "id": "e77f8142",
   "metadata": {},
   "source": [
    "Let's fill in our answers in Table 3.1"
   ]
  },
  {
   "cell_type": "markdown",
   "id": "9692ce69",
   "metadata": {},
   "source": [
    "### Table 3.1\n",
    "Analysing the Top 3 English-Speaking Countries.<br>\n",
    "\n",
    "<font color=green> Answering the following questions with the help of country_wise_investment pivot table and top3 dataframe.</font>\n",
    "#### Q1. Top English speaking country?"
   ]
  },
  {
   "cell_type": "markdown",
   "id": "1e77cab4",
   "metadata": {},
   "source": [
    "`United States(USA)`"
   ]
  },
  {
   "cell_type": "markdown",
   "id": "5e05b006",
   "metadata": {},
   "source": [
    "#### Q2. Second English speaking country?"
   ]
  },
  {
   "cell_type": "markdown",
   "id": "7e0483e4",
   "metadata": {},
   "source": [
    "`United Kingdom(GBR)`"
   ]
  },
  {
   "cell_type": "markdown",
   "id": "2faae3df",
   "metadata": {},
   "source": [
    "#### Q3. Third English speaking country?"
   ]
  },
  {
   "cell_type": "markdown",
   "id": "c9821e22",
   "metadata": {},
   "source": [
    "`Canada(CAN)`"
   ]
  },
  {
   "cell_type": "markdown",
   "id": "2f1b45d5",
   "metadata": {},
   "source": [
    "### <font color=blue> Checkpoint 4: Sector Analysis 1 </font>\n",
    "1. Extract the `primary sector` of each category list from the `category_list` column.\n",
    "    - As I discussed with the CEO, come up with the business rule that the `first string` before the `vertical bar` will be considered the `primary sector`.\n",
    "2. Using the mapping file `'mapping.csv'` to map each `primary sector` to one of the `eight main sectors` (Note: `‘Others’` is also considered one of the main sectors)"
   ]
  },
  {
   "cell_type": "code",
   "execution_count": 1389,
   "id": "fbf29549",
   "metadata": {},
   "outputs": [
    {
     "name": "stdout",
     "output_type": "stream",
     "text": [
      "<class 'pandas.core.frame.DataFrame'>\n",
      "Int64Index: 42021 entries, 1 to 114897\n",
      "Data columns (total 13 columns):\n",
      " #   Column              Non-Null Count  Dtype  \n",
      "---  ------              --------------  -----  \n",
      " 0   permalink           42021 non-null  object \n",
      " 1   name                42021 non-null  object \n",
      " 2   category_list       41630 non-null  object \n",
      " 3   status              42021 non-null  object \n",
      " 4   country_code        42021 non-null  object \n",
      " 5   state_code          41942 non-null  object \n",
      " 6   region              41848 non-null  object \n",
      " 7   city                41848 non-null  object \n",
      " 8   founded_at          34936 non-null  object \n",
      " 9   funding_round_type  42021 non-null  object \n",
      " 10  funding_round_code  22640 non-null  object \n",
      " 11  funded_at           42021 non-null  object \n",
      " 12  raised_amount_usd   39450 non-null  float64\n",
      "dtypes: float64(1), object(12)\n",
      "memory usage: 4.5+ MB\n"
     ]
    }
   ],
   "source": [
    "top3.info()"
   ]
  },
  {
   "cell_type": "markdown",
   "id": "a7d92ea2",
   "metadata": {},
   "source": [
    "Firstly dropping the category_list which has null values. Since, we take NaNs with `'blanks' main sector` which we drop anyway. So dropping here itself."
   ]
  },
  {
   "cell_type": "code",
   "execution_count": 1391,
   "id": "75fd7095",
   "metadata": {},
   "outputs": [],
   "source": [
    "top3 = top3[~top3.category_list.isnull()]"
   ]
  },
  {
   "cell_type": "code",
   "execution_count": 1392,
   "id": "b19cf511",
   "metadata": {},
   "outputs": [
    {
     "data": {
      "text/plain": [
       "(41630, 13)"
      ]
     },
     "execution_count": 1392,
     "metadata": {},
     "output_type": "execute_result"
    }
   ],
   "source": [
    "# Let's check the shape once.\n",
    "top3.shape"
   ]
  },
  {
   "cell_type": "code",
   "execution_count": 1393,
   "id": "1928b0eb",
   "metadata": {},
   "outputs": [
    {
     "data": {
      "text/plain": [
       "1         Application Platforms|Real Time|Social Network...\n",
       "5                                                  Software\n",
       "8                                             Biotechnology\n",
       "10                                                Analytics\n",
       "11                                                Analytics\n",
       "                                ...                        \n",
       "114881                                        Biotechnology\n",
       "114883                                        Biotechnology\n",
       "114884                                        Biotechnology\n",
       "114895                                           E-Commerce\n",
       "114897                                        Biotechnology\n",
       "Name: category_list, Length: 41630, dtype: object"
      ]
     },
     "execution_count": 1393,
     "metadata": {},
     "output_type": "execute_result"
    }
   ],
   "source": [
    "# Before extracting,\n",
    "top3.category_list"
   ]
  },
  {
   "cell_type": "code",
   "execution_count": 1394,
   "id": "d828f70f",
   "metadata": {},
   "outputs": [],
   "source": [
    "# 1.Extract the primary sector i.e. first string before the vertical bar, of each category list from the category_list column\n",
    "top3.category_list = top3.category_list.apply(lambda x: str(x).split(\"|\")[0])"
   ]
  },
  {
   "cell_type": "code",
   "execution_count": 1395,
   "id": "6eedaad4",
   "metadata": {},
   "outputs": [
    {
     "data": {
      "text/plain": [
       "1         Application Platforms\n",
       "5                      Software\n",
       "8                 Biotechnology\n",
       "10                    Analytics\n",
       "11                    Analytics\n",
       "                  ...          \n",
       "114881            Biotechnology\n",
       "114883            Biotechnology\n",
       "114884            Biotechnology\n",
       "114895               E-Commerce\n",
       "114897            Biotechnology\n",
       "Name: category_list, Length: 41630, dtype: object"
      ]
     },
     "execution_count": 1395,
     "metadata": {},
     "output_type": "execute_result"
    }
   ],
   "source": [
    "# After extracting,\n",
    "top3.category_list"
   ]
  },
  {
   "cell_type": "code",
   "execution_count": 1396,
   "id": "f1285382",
   "metadata": {},
   "outputs": [],
   "source": [
    "# 2.Using the mapping file 'mapping.csv'\n",
    "mapping = pd.read_csv(\"mapping.csv\")"
   ]
  },
  {
   "cell_type": "code",
   "execution_count": 1397,
   "id": "1d7a0fe0",
   "metadata": {},
   "outputs": [
    {
     "data": {
      "text/plain": [
       "Index(['category_list', 'Automotive & Sports', 'Blanks',\n",
       "       'Cleantech / Semiconductors', 'Entertainment', 'Health',\n",
       "       'Manufacturing', 'News, Search and Messaging', 'Others',\n",
       "       'Social, Finance, Analytics, Advertising'],\n",
       "      dtype='object')"
      ]
     },
     "execution_count": 1397,
     "metadata": {},
     "output_type": "execute_result"
    }
   ],
   "source": [
    "# Before dropping Blanks column\n",
    "mapping.columns"
   ]
  },
  {
   "cell_type": "code",
   "execution_count": 1398,
   "id": "b7bc49ca",
   "metadata": {},
   "outputs": [
    {
     "data": {
      "text/plain": [
       "Index(['category_list', 'Automotive & Sports', 'Cleantech / Semiconductors',\n",
       "       'Entertainment', 'Health', 'Manufacturing',\n",
       "       'News, Search and Messaging', 'Others',\n",
       "       'Social, Finance, Analytics, Advertising'],\n",
       "      dtype='object')"
      ]
     },
     "execution_count": 1398,
     "metadata": {},
     "output_type": "execute_result"
    }
   ],
   "source": [
    "# After dropping Blanks column\n",
    "mapping = mapping.drop(['Blanks'],axis = 1)\n",
    "mapping.columns"
   ]
  },
  {
   "cell_type": "code",
   "execution_count": 1399,
   "id": "9d5c0dfa",
   "metadata": {},
   "outputs": [
    {
     "name": "stdout",
     "output_type": "stream",
     "text": [
      "['Automotive & Sports', 'Cleantech / Semiconductors', 'Entertainment', 'Health', 'Manufacturing', 'News, Search and Messaging', 'Others', 'Social, Finance, Analytics, Advertising']\n",
      "['category_list']\n"
     ]
    }
   ],
   "source": [
    "# storing the value and id variables in two separate arrays \n",
    "\n",
    "#storing the value variables in one series\n",
    "val_vars = list(mapping.columns[1:])\n",
    "\n",
    "#storing the id variables in one series using setdiff()\n",
    "id_vars = list(np.setdiff1d(mapping.columns,val_vars))\n",
    "\n",
    "print(val_vars)\n",
    "print(id_vars)"
   ]
  },
  {
   "cell_type": "code",
   "execution_count": 1400,
   "id": "0b8bd4b3",
   "metadata": {},
   "outputs": [
    {
     "data": {
      "text/html": [
       "<div>\n",
       "<style scoped>\n",
       "    .dataframe tbody tr th:only-of-type {\n",
       "        vertical-align: middle;\n",
       "    }\n",
       "\n",
       "    .dataframe tbody tr th {\n",
       "        vertical-align: top;\n",
       "    }\n",
       "\n",
       "    .dataframe thead th {\n",
       "        text-align: right;\n",
       "    }\n",
       "</style>\n",
       "<table border=\"1\" class=\"dataframe\">\n",
       "  <thead>\n",
       "    <tr style=\"text-align: right;\">\n",
       "      <th></th>\n",
       "      <th>category_list</th>\n",
       "      <th>variable</th>\n",
       "      <th>value</th>\n",
       "    </tr>\n",
       "  </thead>\n",
       "  <tbody>\n",
       "    <tr>\n",
       "      <th>0</th>\n",
       "      <td>NaN</td>\n",
       "      <td>Automotive &amp; Sports</td>\n",
       "      <td>0</td>\n",
       "    </tr>\n",
       "    <tr>\n",
       "      <th>1</th>\n",
       "      <td>3D</td>\n",
       "      <td>Automotive &amp; Sports</td>\n",
       "      <td>0</td>\n",
       "    </tr>\n",
       "    <tr>\n",
       "      <th>2</th>\n",
       "      <td>3D Printing</td>\n",
       "      <td>Automotive &amp; Sports</td>\n",
       "      <td>0</td>\n",
       "    </tr>\n",
       "    <tr>\n",
       "      <th>3</th>\n",
       "      <td>3D Technology</td>\n",
       "      <td>Automotive &amp; Sports</td>\n",
       "      <td>0</td>\n",
       "    </tr>\n",
       "    <tr>\n",
       "      <th>4</th>\n",
       "      <td>Accounting</td>\n",
       "      <td>Automotive &amp; Sports</td>\n",
       "      <td>0</td>\n",
       "    </tr>\n",
       "    <tr>\n",
       "      <th>...</th>\n",
       "      <td>...</td>\n",
       "      <td>...</td>\n",
       "      <td>...</td>\n",
       "    </tr>\n",
       "    <tr>\n",
       "      <th>5499</th>\n",
       "      <td>Wholesale</td>\n",
       "      <td>Social, Finance, Analytics, Advertising</td>\n",
       "      <td>0</td>\n",
       "    </tr>\n",
       "    <tr>\n",
       "      <th>5500</th>\n",
       "      <td>Wine And Spirits</td>\n",
       "      <td>Social, Finance, Analytics, Advertising</td>\n",
       "      <td>0</td>\n",
       "    </tr>\n",
       "    <tr>\n",
       "      <th>5501</th>\n",
       "      <td>Wireless</td>\n",
       "      <td>Social, Finance, Analytics, Advertising</td>\n",
       "      <td>0</td>\n",
       "    </tr>\n",
       "    <tr>\n",
       "      <th>5502</th>\n",
       "      <td>Women</td>\n",
       "      <td>Social, Finance, Analytics, Advertising</td>\n",
       "      <td>0</td>\n",
       "    </tr>\n",
       "    <tr>\n",
       "      <th>5503</th>\n",
       "      <td>Young Adults</td>\n",
       "      <td>Social, Finance, Analytics, Advertising</td>\n",
       "      <td>0</td>\n",
       "    </tr>\n",
       "  </tbody>\n",
       "</table>\n",
       "<p>5504 rows × 3 columns</p>\n",
       "</div>"
      ],
      "text/plain": [
       "         category_list                                 variable  value\n",
       "0                  NaN                      Automotive & Sports      0\n",
       "1                   3D                      Automotive & Sports      0\n",
       "2          3D Printing                      Automotive & Sports      0\n",
       "3        3D Technology                      Automotive & Sports      0\n",
       "4           Accounting                      Automotive & Sports      0\n",
       "...                ...                                      ...    ...\n",
       "5499         Wholesale  Social, Finance, Analytics, Advertising      0\n",
       "5500  Wine And Spirits  Social, Finance, Analytics, Advertising      0\n",
       "5501          Wireless  Social, Finance, Analytics, Advertising      0\n",
       "5502             Women  Social, Finance, Analytics, Advertising      0\n",
       "5503      Young Adults  Social, Finance, Analytics, Advertising      0\n",
       "\n",
       "[5504 rows x 3 columns]"
      ]
     },
     "execution_count": 1400,
     "metadata": {},
     "output_type": "execute_result"
    }
   ],
   "source": [
    "# convert into long\n",
    "mapping = pd.melt(mapping, id_vars=id_vars, value_vars=val_vars)\n",
    "mapping"
   ]
  },
  {
   "cell_type": "code",
   "execution_count": 1401,
   "id": "0d5aaf9f",
   "metadata": {},
   "outputs": [],
   "source": [
    "# Removing rows having zero\n",
    "mapping = mapping[mapping.value==1]\n",
    "\n",
    "# Removing Values column\n",
    "mapping = mapping.drop('value',axis=1)"
   ]
  },
  {
   "cell_type": "code",
   "execution_count": 1402,
   "id": "95e9efea",
   "metadata": {},
   "outputs": [
    {
     "data": {
      "text/html": [
       "<div>\n",
       "<style scoped>\n",
       "    .dataframe tbody tr th:only-of-type {\n",
       "        vertical-align: middle;\n",
       "    }\n",
       "\n",
       "    .dataframe tbody tr th {\n",
       "        vertical-align: top;\n",
       "    }\n",
       "\n",
       "    .dataframe thead th {\n",
       "        text-align: right;\n",
       "    }\n",
       "</style>\n",
       "<table border=\"1\" class=\"dataframe\">\n",
       "  <thead>\n",
       "    <tr style=\"text-align: right;\">\n",
       "      <th></th>\n",
       "      <th>category_list</th>\n",
       "      <th>variable</th>\n",
       "    </tr>\n",
       "  </thead>\n",
       "  <tbody>\n",
       "    <tr>\n",
       "      <th>8</th>\n",
       "      <td>Adventure Travel</td>\n",
       "      <td>Automotive &amp; Sports</td>\n",
       "    </tr>\n",
       "    <tr>\n",
       "      <th>14</th>\n",
       "      <td>Aerospace</td>\n",
       "      <td>Automotive &amp; Sports</td>\n",
       "    </tr>\n",
       "    <tr>\n",
       "      <th>45</th>\n",
       "      <td>Auto</td>\n",
       "      <td>Automotive &amp; Sports</td>\n",
       "    </tr>\n",
       "    <tr>\n",
       "      <th>46</th>\n",
       "      <td>Automated Kiosk</td>\n",
       "      <td>Automotive &amp; Sports</td>\n",
       "    </tr>\n",
       "    <tr>\n",
       "      <th>47</th>\n",
       "      <td>Automotive</td>\n",
       "      <td>Automotive &amp; Sports</td>\n",
       "    </tr>\n",
       "    <tr>\n",
       "      <th>...</th>\n",
       "      <td>...</td>\n",
       "      <td>...</td>\n",
       "    </tr>\n",
       "    <tr>\n",
       "      <th>5433</th>\n",
       "      <td>Social Recruiting</td>\n",
       "      <td>Social, Finance, Analytics, Advertising</td>\n",
       "    </tr>\n",
       "    <tr>\n",
       "      <th>5434</th>\n",
       "      <td>Social Television</td>\n",
       "      <td>Social, Finance, Analytics, Advertising</td>\n",
       "    </tr>\n",
       "    <tr>\n",
       "      <th>5435</th>\n",
       "      <td>Social Travel</td>\n",
       "      <td>Social, Finance, Analytics, Advertising</td>\n",
       "    </tr>\n",
       "    <tr>\n",
       "      <th>5446</th>\n",
       "      <td>Stock Exchanges</td>\n",
       "      <td>Social, Finance, Analytics, Advertising</td>\n",
       "    </tr>\n",
       "    <tr>\n",
       "      <th>5479</th>\n",
       "      <td>Venture Capital</td>\n",
       "      <td>Social, Finance, Analytics, Advertising</td>\n",
       "    </tr>\n",
       "  </tbody>\n",
       "</table>\n",
       "<p>687 rows × 2 columns</p>\n",
       "</div>"
      ],
      "text/plain": [
       "          category_list                                 variable\n",
       "8      Adventure Travel                      Automotive & Sports\n",
       "14            Aerospace                      Automotive & Sports\n",
       "45                 Auto                      Automotive & Sports\n",
       "46      Automated Kiosk                      Automotive & Sports\n",
       "47           Automotive                      Automotive & Sports\n",
       "...                 ...                                      ...\n",
       "5433  Social Recruiting  Social, Finance, Analytics, Advertising\n",
       "5434  Social Television  Social, Finance, Analytics, Advertising\n",
       "5435      Social Travel  Social, Finance, Analytics, Advertising\n",
       "5446    Stock Exchanges  Social, Finance, Analytics, Advertising\n",
       "5479    Venture Capital  Social, Finance, Analytics, Advertising\n",
       "\n",
       "[687 rows x 2 columns]"
      ]
     },
     "execution_count": 1402,
     "metadata": {},
     "output_type": "execute_result"
    }
   ],
   "source": [
    "mapping"
   ]
  },
  {
   "cell_type": "code",
   "execution_count": 1403,
   "id": "c6a4687b",
   "metadata": {},
   "outputs": [
    {
     "data": {
      "text/html": [
       "<div>\n",
       "<style scoped>\n",
       "    .dataframe tbody tr th:only-of-type {\n",
       "        vertical-align: middle;\n",
       "    }\n",
       "\n",
       "    .dataframe tbody tr th {\n",
       "        vertical-align: top;\n",
       "    }\n",
       "\n",
       "    .dataframe thead th {\n",
       "        text-align: right;\n",
       "    }\n",
       "</style>\n",
       "<table border=\"1\" class=\"dataframe\">\n",
       "  <thead>\n",
       "    <tr style=\"text-align: right;\">\n",
       "      <th></th>\n",
       "      <th>category_list</th>\n",
       "      <th>main_sector</th>\n",
       "    </tr>\n",
       "  </thead>\n",
       "  <tbody>\n",
       "    <tr>\n",
       "      <th>8</th>\n",
       "      <td>Adventure Travel</td>\n",
       "      <td>Automotive &amp; Sports</td>\n",
       "    </tr>\n",
       "    <tr>\n",
       "      <th>14</th>\n",
       "      <td>Aerospace</td>\n",
       "      <td>Automotive &amp; Sports</td>\n",
       "    </tr>\n",
       "    <tr>\n",
       "      <th>45</th>\n",
       "      <td>Auto</td>\n",
       "      <td>Automotive &amp; Sports</td>\n",
       "    </tr>\n",
       "    <tr>\n",
       "      <th>46</th>\n",
       "      <td>Automated Kiosk</td>\n",
       "      <td>Automotive &amp; Sports</td>\n",
       "    </tr>\n",
       "    <tr>\n",
       "      <th>47</th>\n",
       "      <td>Automotive</td>\n",
       "      <td>Automotive &amp; Sports</td>\n",
       "    </tr>\n",
       "    <tr>\n",
       "      <th>...</th>\n",
       "      <td>...</td>\n",
       "      <td>...</td>\n",
       "    </tr>\n",
       "    <tr>\n",
       "      <th>5433</th>\n",
       "      <td>Social Recruiting</td>\n",
       "      <td>Social, Finance, Analytics, Advertising</td>\n",
       "    </tr>\n",
       "    <tr>\n",
       "      <th>5434</th>\n",
       "      <td>Social Television</td>\n",
       "      <td>Social, Finance, Analytics, Advertising</td>\n",
       "    </tr>\n",
       "    <tr>\n",
       "      <th>5435</th>\n",
       "      <td>Social Travel</td>\n",
       "      <td>Social, Finance, Analytics, Advertising</td>\n",
       "    </tr>\n",
       "    <tr>\n",
       "      <th>5446</th>\n",
       "      <td>Stock Exchanges</td>\n",
       "      <td>Social, Finance, Analytics, Advertising</td>\n",
       "    </tr>\n",
       "    <tr>\n",
       "      <th>5479</th>\n",
       "      <td>Venture Capital</td>\n",
       "      <td>Social, Finance, Analytics, Advertising</td>\n",
       "    </tr>\n",
       "  </tbody>\n",
       "</table>\n",
       "<p>687 rows × 2 columns</p>\n",
       "</div>"
      ],
      "text/plain": [
       "          category_list                              main_sector\n",
       "8      Adventure Travel                      Automotive & Sports\n",
       "14            Aerospace                      Automotive & Sports\n",
       "45                 Auto                      Automotive & Sports\n",
       "46      Automated Kiosk                      Automotive & Sports\n",
       "47           Automotive                      Automotive & Sports\n",
       "...                 ...                                      ...\n",
       "5433  Social Recruiting  Social, Finance, Analytics, Advertising\n",
       "5434  Social Television  Social, Finance, Analytics, Advertising\n",
       "5435      Social Travel  Social, Finance, Analytics, Advertising\n",
       "5446    Stock Exchanges  Social, Finance, Analytics, Advertising\n",
       "5479    Venture Capital  Social, Finance, Analytics, Advertising\n",
       "\n",
       "[687 rows x 2 columns]"
      ]
     },
     "execution_count": 1403,
     "metadata": {},
     "output_type": "execute_result"
    }
   ],
   "source": [
    "#Renaming the 'variable' column\n",
    "mapping = mapping.rename(columns={'variable':'main_sector'})\n",
    "mapping"
   ]
  },
  {
   "cell_type": "code",
   "execution_count": 1404,
   "id": "cfe6c5b2",
   "metadata": {},
   "outputs": [
    {
     "name": "stdout",
     "output_type": "stream",
     "text": [
      "<class 'pandas.core.frame.DataFrame'>\n",
      "Int64Index: 41630 entries, 1 to 114897\n",
      "Data columns (total 13 columns):\n",
      " #   Column              Non-Null Count  Dtype  \n",
      "---  ------              --------------  -----  \n",
      " 0   permalink           41630 non-null  object \n",
      " 1   name                41630 non-null  object \n",
      " 2   category_list       41630 non-null  object \n",
      " 3   status              41630 non-null  object \n",
      " 4   country_code        41630 non-null  object \n",
      " 5   state_code          41552 non-null  object \n",
      " 6   region              41460 non-null  object \n",
      " 7   city                41460 non-null  object \n",
      " 8   founded_at          34813 non-null  object \n",
      " 9   funding_round_type  41630 non-null  object \n",
      " 10  funding_round_code  22481 non-null  object \n",
      " 11  funded_at           41630 non-null  object \n",
      " 12  raised_amount_usd   39230 non-null  float64\n",
      "dtypes: float64(1), object(12)\n",
      "memory usage: 4.4+ MB\n"
     ]
    }
   ],
   "source": [
    "top3.info()"
   ]
  },
  {
   "cell_type": "code",
   "execution_count": 1405,
   "id": "653a9268",
   "metadata": {},
   "outputs": [
    {
     "name": "stdout",
     "output_type": "stream",
     "text": [
      "<class 'pandas.core.frame.DataFrame'>\n",
      "Int64Index: 687 entries, 8 to 5479\n",
      "Data columns (total 2 columns):\n",
      " #   Column         Non-Null Count  Dtype \n",
      "---  ------         --------------  ----- \n",
      " 0   category_list  687 non-null    object\n",
      " 1   main_sector    687 non-null    object\n",
      "dtypes: object(2)\n",
      "memory usage: 16.1+ KB\n"
     ]
    }
   ],
   "source": [
    "mapping.info()"
   ]
  },
  {
   "cell_type": "code",
   "execution_count": 1406,
   "id": "363b79aa",
   "metadata": {},
   "outputs": [],
   "source": [
    "# Let's convert both the category_list fields from the dataframes into smaller case before merging to maintain data consistency.\n",
    "top3.category_list = top3.category_list.str.lower()\n",
    "mapping.category_list = mapping.category_list.str.lower()"
   ]
  },
  {
   "cell_type": "code",
   "execution_count": 1407,
   "id": "a36c08cf",
   "metadata": {},
   "outputs": [
    {
     "data": {
      "text/html": [
       "<div>\n",
       "<style scoped>\n",
       "    .dataframe tbody tr th:only-of-type {\n",
       "        vertical-align: middle;\n",
       "    }\n",
       "\n",
       "    .dataframe tbody tr th {\n",
       "        vertical-align: top;\n",
       "    }\n",
       "\n",
       "    .dataframe thead th {\n",
       "        text-align: right;\n",
       "    }\n",
       "</style>\n",
       "<table border=\"1\" class=\"dataframe\">\n",
       "  <thead>\n",
       "    <tr style=\"text-align: right;\">\n",
       "      <th></th>\n",
       "      <th>permalink</th>\n",
       "      <th>name</th>\n",
       "      <th>category_list</th>\n",
       "      <th>status</th>\n",
       "      <th>country_code</th>\n",
       "      <th>state_code</th>\n",
       "      <th>region</th>\n",
       "      <th>city</th>\n",
       "      <th>founded_at</th>\n",
       "      <th>funding_round_type</th>\n",
       "      <th>funding_round_code</th>\n",
       "      <th>funded_at</th>\n",
       "      <th>raised_amount_usd</th>\n",
       "      <th>main_sector</th>\n",
       "    </tr>\n",
       "  </thead>\n",
       "  <tbody>\n",
       "    <tr>\n",
       "      <th>0</th>\n",
       "      <td>/organization/-qounter</td>\n",
       "      <td>:Qounter</td>\n",
       "      <td>application platforms</td>\n",
       "      <td>operating</td>\n",
       "      <td>USA</td>\n",
       "      <td>DE</td>\n",
       "      <td>DE - Other</td>\n",
       "      <td>Delaware City</td>\n",
       "      <td>04-09-2014</td>\n",
       "      <td>venture</td>\n",
       "      <td>A</td>\n",
       "      <td>14-10-2014</td>\n",
       "      <td>NaN</td>\n",
       "      <td>News, Search and Messaging</td>\n",
       "    </tr>\n",
       "    <tr>\n",
       "      <th>1</th>\n",
       "      <td>/organization/aarohi-communication</td>\n",
       "      <td>Aarohi communication</td>\n",
       "      <td>application platforms</td>\n",
       "      <td>acquired</td>\n",
       "      <td>USA</td>\n",
       "      <td>CA</td>\n",
       "      <td>SF Bay Area</td>\n",
       "      <td>San Jose</td>\n",
       "      <td>NaN</td>\n",
       "      <td>venture</td>\n",
       "      <td>NaN</td>\n",
       "      <td>01-08-2001</td>\n",
       "      <td>NaN</td>\n",
       "      <td>News, Search and Messaging</td>\n",
       "    </tr>\n",
       "    <tr>\n",
       "      <th>2</th>\n",
       "      <td>/organization/aarohi-communication</td>\n",
       "      <td>Aarohi communication</td>\n",
       "      <td>application platforms</td>\n",
       "      <td>acquired</td>\n",
       "      <td>USA</td>\n",
       "      <td>CA</td>\n",
       "      <td>SF Bay Area</td>\n",
       "      <td>San Jose</td>\n",
       "      <td>NaN</td>\n",
       "      <td>venture</td>\n",
       "      <td>NaN</td>\n",
       "      <td>29-08-2003</td>\n",
       "      <td>6000000.00</td>\n",
       "      <td>News, Search and Messaging</td>\n",
       "    </tr>\n",
       "    <tr>\n",
       "      <th>3</th>\n",
       "      <td>/organization/aarohi-communication</td>\n",
       "      <td>Aarohi communication</td>\n",
       "      <td>application platforms</td>\n",
       "      <td>acquired</td>\n",
       "      <td>USA</td>\n",
       "      <td>CA</td>\n",
       "      <td>SF Bay Area</td>\n",
       "      <td>San Jose</td>\n",
       "      <td>NaN</td>\n",
       "      <td>venture</td>\n",
       "      <td>B</td>\n",
       "      <td>06-12-2002</td>\n",
       "      <td>8000000.00</td>\n",
       "      <td>News, Search and Messaging</td>\n",
       "    </tr>\n",
       "    <tr>\n",
       "      <th>4</th>\n",
       "      <td>/organization/allegro-networks</td>\n",
       "      <td>Allegro Networks</td>\n",
       "      <td>application platforms</td>\n",
       "      <td>closed</td>\n",
       "      <td>USA</td>\n",
       "      <td>CA</td>\n",
       "      <td>SF Bay Area</td>\n",
       "      <td>San Jose</td>\n",
       "      <td>01-01-2000</td>\n",
       "      <td>venture</td>\n",
       "      <td>B</td>\n",
       "      <td>04-02-2002</td>\n",
       "      <td>60000000.00</td>\n",
       "      <td>News, Search and Messaging</td>\n",
       "    </tr>\n",
       "  </tbody>\n",
       "</table>\n",
       "</div>"
      ],
      "text/plain": [
       "                            permalink                  name  \\\n",
       "0              /organization/-qounter              :Qounter   \n",
       "1  /organization/aarohi-communication  Aarohi communication   \n",
       "2  /organization/aarohi-communication  Aarohi communication   \n",
       "3  /organization/aarohi-communication  Aarohi communication   \n",
       "4      /organization/allegro-networks      Allegro Networks   \n",
       "\n",
       "           category_list     status country_code state_code       region  \\\n",
       "0  application platforms  operating          USA         DE   DE - Other   \n",
       "1  application platforms   acquired          USA         CA  SF Bay Area   \n",
       "2  application platforms   acquired          USA         CA  SF Bay Area   \n",
       "3  application platforms   acquired          USA         CA  SF Bay Area   \n",
       "4  application platforms     closed          USA         CA  SF Bay Area   \n",
       "\n",
       "            city  founded_at funding_round_type funding_round_code  \\\n",
       "0  Delaware City  04-09-2014            venture                  A   \n",
       "1       San Jose         NaN            venture                NaN   \n",
       "2       San Jose         NaN            venture                NaN   \n",
       "3       San Jose         NaN            venture                  B   \n",
       "4       San Jose  01-01-2000            venture                  B   \n",
       "\n",
       "    funded_at  raised_amount_usd                 main_sector  \n",
       "0  14-10-2014                NaN  News, Search and Messaging  \n",
       "1  01-08-2001                NaN  News, Search and Messaging  \n",
       "2  29-08-2003         6000000.00  News, Search and Messaging  \n",
       "3  06-12-2002         8000000.00  News, Search and Messaging  \n",
       "4  04-02-2002        60000000.00  News, Search and Messaging  "
      ]
     },
     "execution_count": 1407,
     "metadata": {},
     "output_type": "execute_result"
    }
   ],
   "source": [
    "# Merging the two dfs - top3 & mapping\n",
    "# Using equi join, since we don't need any categories not falling under the eight main sectors.\n",
    "Final_df = pd.merge(top3,mapping,how = \"inner\", on = \"category_list\")\n",
    "Final_df.head()"
   ]
  },
  {
   "cell_type": "code",
   "execution_count": 1408,
   "id": "692e7a9f",
   "metadata": {},
   "outputs": [
    {
     "name": "stdout",
     "output_type": "stream",
     "text": [
      "<class 'pandas.core.frame.DataFrame'>\n",
      "Int64Index: 38797 entries, 0 to 38796\n",
      "Data columns (total 14 columns):\n",
      " #   Column              Non-Null Count  Dtype  \n",
      "---  ------              --------------  -----  \n",
      " 0   permalink           38797 non-null  object \n",
      " 1   name                38797 non-null  object \n",
      " 2   category_list       38797 non-null  object \n",
      " 3   status              38797 non-null  object \n",
      " 4   country_code        38797 non-null  object \n",
      " 5   state_code          38720 non-null  object \n",
      " 6   region              38629 non-null  object \n",
      " 7   city                38629 non-null  object \n",
      " 8   founded_at          32301 non-null  object \n",
      " 9   funding_round_type  38797 non-null  object \n",
      " 10  funding_round_code  20721 non-null  object \n",
      " 11  funded_at           38797 non-null  object \n",
      " 12  raised_amount_usd   36618 non-null  float64\n",
      " 13  main_sector         38797 non-null  object \n",
      "dtypes: float64(1), object(13)\n",
      "memory usage: 4.4+ MB\n"
     ]
    }
   ],
   "source": [
    "# Before renaming category_list column\n",
    "Final_df.info()"
   ]
  },
  {
   "cell_type": "code",
   "execution_count": 1409,
   "id": "c6651403",
   "metadata": {},
   "outputs": [
    {
     "data": {
      "text/html": [
       "<div>\n",
       "<style scoped>\n",
       "    .dataframe tbody tr th:only-of-type {\n",
       "        vertical-align: middle;\n",
       "    }\n",
       "\n",
       "    .dataframe tbody tr th {\n",
       "        vertical-align: top;\n",
       "    }\n",
       "\n",
       "    .dataframe thead th {\n",
       "        text-align: right;\n",
       "    }\n",
       "</style>\n",
       "<table border=\"1\" class=\"dataframe\">\n",
       "  <thead>\n",
       "    <tr style=\"text-align: right;\">\n",
       "      <th></th>\n",
       "      <th>permalink</th>\n",
       "      <th>name</th>\n",
       "      <th>primary_sector</th>\n",
       "      <th>status</th>\n",
       "      <th>country_code</th>\n",
       "      <th>state_code</th>\n",
       "      <th>region</th>\n",
       "      <th>city</th>\n",
       "      <th>founded_at</th>\n",
       "      <th>funding_round_type</th>\n",
       "      <th>funding_round_code</th>\n",
       "      <th>funded_at</th>\n",
       "      <th>raised_amount_usd</th>\n",
       "      <th>main_sector</th>\n",
       "    </tr>\n",
       "  </thead>\n",
       "  <tbody>\n",
       "    <tr>\n",
       "      <th>0</th>\n",
       "      <td>/organization/-qounter</td>\n",
       "      <td>:Qounter</td>\n",
       "      <td>application platforms</td>\n",
       "      <td>operating</td>\n",
       "      <td>USA</td>\n",
       "      <td>DE</td>\n",
       "      <td>DE - Other</td>\n",
       "      <td>Delaware City</td>\n",
       "      <td>04-09-2014</td>\n",
       "      <td>venture</td>\n",
       "      <td>A</td>\n",
       "      <td>14-10-2014</td>\n",
       "      <td>NaN</td>\n",
       "      <td>News, Search and Messaging</td>\n",
       "    </tr>\n",
       "    <tr>\n",
       "      <th>1</th>\n",
       "      <td>/organization/aarohi-communication</td>\n",
       "      <td>Aarohi communication</td>\n",
       "      <td>application platforms</td>\n",
       "      <td>acquired</td>\n",
       "      <td>USA</td>\n",
       "      <td>CA</td>\n",
       "      <td>SF Bay Area</td>\n",
       "      <td>San Jose</td>\n",
       "      <td>NaN</td>\n",
       "      <td>venture</td>\n",
       "      <td>NaN</td>\n",
       "      <td>01-08-2001</td>\n",
       "      <td>NaN</td>\n",
       "      <td>News, Search and Messaging</td>\n",
       "    </tr>\n",
       "    <tr>\n",
       "      <th>2</th>\n",
       "      <td>/organization/aarohi-communication</td>\n",
       "      <td>Aarohi communication</td>\n",
       "      <td>application platforms</td>\n",
       "      <td>acquired</td>\n",
       "      <td>USA</td>\n",
       "      <td>CA</td>\n",
       "      <td>SF Bay Area</td>\n",
       "      <td>San Jose</td>\n",
       "      <td>NaN</td>\n",
       "      <td>venture</td>\n",
       "      <td>NaN</td>\n",
       "      <td>29-08-2003</td>\n",
       "      <td>6000000.00</td>\n",
       "      <td>News, Search and Messaging</td>\n",
       "    </tr>\n",
       "    <tr>\n",
       "      <th>3</th>\n",
       "      <td>/organization/aarohi-communication</td>\n",
       "      <td>Aarohi communication</td>\n",
       "      <td>application platforms</td>\n",
       "      <td>acquired</td>\n",
       "      <td>USA</td>\n",
       "      <td>CA</td>\n",
       "      <td>SF Bay Area</td>\n",
       "      <td>San Jose</td>\n",
       "      <td>NaN</td>\n",
       "      <td>venture</td>\n",
       "      <td>B</td>\n",
       "      <td>06-12-2002</td>\n",
       "      <td>8000000.00</td>\n",
       "      <td>News, Search and Messaging</td>\n",
       "    </tr>\n",
       "    <tr>\n",
       "      <th>4</th>\n",
       "      <td>/organization/allegro-networks</td>\n",
       "      <td>Allegro Networks</td>\n",
       "      <td>application platforms</td>\n",
       "      <td>closed</td>\n",
       "      <td>USA</td>\n",
       "      <td>CA</td>\n",
       "      <td>SF Bay Area</td>\n",
       "      <td>San Jose</td>\n",
       "      <td>01-01-2000</td>\n",
       "      <td>venture</td>\n",
       "      <td>B</td>\n",
       "      <td>04-02-2002</td>\n",
       "      <td>60000000.00</td>\n",
       "      <td>News, Search and Messaging</td>\n",
       "    </tr>\n",
       "  </tbody>\n",
       "</table>\n",
       "</div>"
      ],
      "text/plain": [
       "                            permalink                  name  \\\n",
       "0              /organization/-qounter              :Qounter   \n",
       "1  /organization/aarohi-communication  Aarohi communication   \n",
       "2  /organization/aarohi-communication  Aarohi communication   \n",
       "3  /organization/aarohi-communication  Aarohi communication   \n",
       "4      /organization/allegro-networks      Allegro Networks   \n",
       "\n",
       "          primary_sector     status country_code state_code       region  \\\n",
       "0  application platforms  operating          USA         DE   DE - Other   \n",
       "1  application platforms   acquired          USA         CA  SF Bay Area   \n",
       "2  application platforms   acquired          USA         CA  SF Bay Area   \n",
       "3  application platforms   acquired          USA         CA  SF Bay Area   \n",
       "4  application platforms     closed          USA         CA  SF Bay Area   \n",
       "\n",
       "            city  founded_at funding_round_type funding_round_code  \\\n",
       "0  Delaware City  04-09-2014            venture                  A   \n",
       "1       San Jose         NaN            venture                NaN   \n",
       "2       San Jose         NaN            venture                NaN   \n",
       "3       San Jose         NaN            venture                  B   \n",
       "4       San Jose  01-01-2000            venture                  B   \n",
       "\n",
       "    funded_at  raised_amount_usd                 main_sector  \n",
       "0  14-10-2014                NaN  News, Search and Messaging  \n",
       "1  01-08-2001                NaN  News, Search and Messaging  \n",
       "2  29-08-2003         6000000.00  News, Search and Messaging  \n",
       "3  06-12-2002         8000000.00  News, Search and Messaging  \n",
       "4  04-02-2002        60000000.00  News, Search and Messaging  "
      ]
     },
     "execution_count": 1409,
     "metadata": {},
     "output_type": "execute_result"
    }
   ],
   "source": [
    "# Renaming category_list as primary_sector\n",
    "Final_df = Final_df.rename(columns={\"category_list\" : \"primary_sector\"})\n",
    "Final_df.head()"
   ]
  },
  {
   "cell_type": "code",
   "execution_count": 1410,
   "id": "2ee41d43",
   "metadata": {},
   "outputs": [
    {
     "name": "stdout",
     "output_type": "stream",
     "text": [
      "<class 'pandas.core.frame.DataFrame'>\n",
      "Int64Index: 38797 entries, 0 to 38796\n",
      "Data columns (total 14 columns):\n",
      " #   Column              Non-Null Count  Dtype  \n",
      "---  ------              --------------  -----  \n",
      " 0   permalink           38797 non-null  object \n",
      " 1   name                38797 non-null  object \n",
      " 2   primary_sector      38797 non-null  object \n",
      " 3   status              38797 non-null  object \n",
      " 4   country_code        38797 non-null  object \n",
      " 5   state_code          38720 non-null  object \n",
      " 6   region              38629 non-null  object \n",
      " 7   city                38629 non-null  object \n",
      " 8   founded_at          32301 non-null  object \n",
      " 9   funding_round_type  38797 non-null  object \n",
      " 10  funding_round_code  20721 non-null  object \n",
      " 11  funded_at           38797 non-null  object \n",
      " 12  raised_amount_usd   36618 non-null  float64\n",
      " 13  main_sector         38797 non-null  object \n",
      "dtypes: float64(1), object(13)\n",
      "memory usage: 4.4+ MB\n"
     ]
    }
   ],
   "source": [
    "# After renaming\n",
    "Final_df.info()"
   ]
  },
  {
   "cell_type": "markdown",
   "id": "409f07f3",
   "metadata": {},
   "source": [
    "### <font color=blue> Checkpoint 5: Sector Analysis 2 </font>\n",
    "Creating three separate dataframes D1, D2 and D3 for each of the three countries containing the observations of funding type FT falling within the 5-15 million USD range.<br>\n",
    "Based on the analysis of the sectors, Finalizing on which main sectors and countries we should invest in<br>\n",
    "- D1 - Country C1 - USA\n",
    "- D2 - Country C2 - GBR\n",
    "- D3 - Country C3 - CAN\n",
    "- FT - Funding Type - venture"
   ]
  },
  {
   "cell_type": "markdown",
   "id": "a7b0dc4e",
   "metadata": {},
   "source": [
    "#### Now we have two conditions for this Final_df to satisfy before spliting them by countries.\n",
    "1. Need to have one specific funding type 'FT' falling within the 5-15 million USD range.\n",
    "2. Need to have only three countries which speaking english"
   ]
  },
  {
   "cell_type": "code",
   "execution_count": 1411,
   "id": "6f19d9a6",
   "metadata": {},
   "outputs": [
    {
     "data": {
      "text/plain": [
       "venture    38797\n",
       "Name: funding_round_type, dtype: int64"
      ]
     },
     "execution_count": 1411,
     "metadata": {},
     "output_type": "execute_result"
    }
   ],
   "source": [
    "### Let's check one by one - 1. Need to have one specific funding type 'FT'\n",
    "Final_df.funding_round_type.value_counts()"
   ]
  },
  {
   "cell_type": "code",
   "execution_count": 1412,
   "id": "f8804d8f",
   "metadata": {},
   "outputs": [
    {
     "data": {
      "text/plain": [
       "USA    35421\n",
       "GBR     2120\n",
       "CAN     1256\n",
       "Name: country_code, dtype: int64"
      ]
     },
     "execution_count": 1412,
     "metadata": {},
     "output_type": "execute_result"
    }
   ],
   "source": [
    "### 2. Need to have only three countries which speaking english\n",
    "Final_df.country_code.value_counts()"
   ]
  },
  {
   "cell_type": "markdown",
   "id": "cbb611ea",
   "metadata": {},
   "source": [
    "`Removing` companies with `closed status`, since we don't need the closed companies in our analysis anymore. Since we are kind of finalizing the sector and company with top 3 countries, keeping the closed one may lead to wrong conclusion. \n"
   ]
  },
  {
   "cell_type": "code",
   "execution_count": 1413,
   "id": "dbd0d665",
   "metadata": {},
   "outputs": [
    {
     "data": {
      "text/plain": [
       "(36200, 14)"
      ]
     },
     "execution_count": 1413,
     "metadata": {},
     "output_type": "execute_result"
    }
   ],
   "source": [
    "Final_df = Final_df[Final_df.status != 'closed']\n",
    "Final_df.shape"
   ]
  },
  {
   "cell_type": "markdown",
   "id": "7fc55366",
   "metadata": {},
   "source": [
    "Let's remove raised_amount_usd with `zero` values. Since we don't need that to be counted in the final results."
   ]
  },
  {
   "cell_type": "code",
   "execution_count": 1415,
   "id": "27000042",
   "metadata": {},
   "outputs": [],
   "source": [
    "Final_df = Final_df[~(Final_df.raised_amount_usd == 0)]"
   ]
  },
  {
   "cell_type": "code",
   "execution_count": 1416,
   "id": "27569137",
   "metadata": {},
   "outputs": [
    {
     "data": {
      "text/plain": [
       "(36184, 14)"
      ]
     },
     "execution_count": 1416,
     "metadata": {},
     "output_type": "execute_result"
    }
   ],
   "source": [
    "# Shape before spliting\n",
    "Final_df.shape"
   ]
  },
  {
   "cell_type": "code",
   "execution_count": 1417,
   "id": "660900b2",
   "metadata": {},
   "outputs": [],
   "source": [
    "# Creating three separate dataframes for each countries.\n",
    "D1_USA = Final_df[Final_df.country_code == 'USA']\n",
    "D2_GBR = Final_df[Final_df.country_code == 'GBR']\n",
    "D3_CAN = Final_df[Final_df.country_code == 'CAN']"
   ]
  },
  {
   "cell_type": "code",
   "execution_count": 1418,
   "id": "a37a8585",
   "metadata": {},
   "outputs": [
    {
     "data": {
      "text/plain": [
       "36184"
      ]
     },
     "execution_count": 1418,
     "metadata": {},
     "output_type": "execute_result"
    }
   ],
   "source": [
    "# Shape after spliting\n",
    "D1_USA.shape[0]+D2_GBR.shape[0]+D3_CAN.shape[0]"
   ]
  },
  {
   "cell_type": "code",
   "execution_count": 1419,
   "id": "9446e73c",
   "metadata": {},
   "outputs": [
    {
     "data": {
      "text/html": [
       "<div>\n",
       "<style scoped>\n",
       "    .dataframe tbody tr th:only-of-type {\n",
       "        vertical-align: middle;\n",
       "    }\n",
       "\n",
       "    .dataframe tbody tr th {\n",
       "        vertical-align: top;\n",
       "    }\n",
       "\n",
       "    .dataframe thead th {\n",
       "        text-align: right;\n",
       "    }\n",
       "</style>\n",
       "<table border=\"1\" class=\"dataframe\">\n",
       "  <thead>\n",
       "    <tr style=\"text-align: right;\">\n",
       "      <th></th>\n",
       "      <th>permalink</th>\n",
       "      <th>name</th>\n",
       "      <th>primary_sector</th>\n",
       "      <th>status</th>\n",
       "      <th>country_code</th>\n",
       "      <th>state_code</th>\n",
       "      <th>region</th>\n",
       "      <th>city</th>\n",
       "      <th>founded_at</th>\n",
       "      <th>funding_round_type</th>\n",
       "      <th>funding_round_code</th>\n",
       "      <th>funded_at</th>\n",
       "      <th>raised_amount_usd</th>\n",
       "      <th>main_sector</th>\n",
       "    </tr>\n",
       "  </thead>\n",
       "  <tbody>\n",
       "    <tr>\n",
       "      <th>0</th>\n",
       "      <td>/organization/-qounter</td>\n",
       "      <td>:Qounter</td>\n",
       "      <td>application platforms</td>\n",
       "      <td>operating</td>\n",
       "      <td>USA</td>\n",
       "      <td>DE</td>\n",
       "      <td>DE - Other</td>\n",
       "      <td>Delaware City</td>\n",
       "      <td>04-09-2014</td>\n",
       "      <td>venture</td>\n",
       "      <td>A</td>\n",
       "      <td>14-10-2014</td>\n",
       "      <td>NaN</td>\n",
       "      <td>News, Search and Messaging</td>\n",
       "    </tr>\n",
       "    <tr>\n",
       "      <th>1</th>\n",
       "      <td>/organization/aarohi-communication</td>\n",
       "      <td>Aarohi communication</td>\n",
       "      <td>application platforms</td>\n",
       "      <td>acquired</td>\n",
       "      <td>USA</td>\n",
       "      <td>CA</td>\n",
       "      <td>SF Bay Area</td>\n",
       "      <td>San Jose</td>\n",
       "      <td>NaN</td>\n",
       "      <td>venture</td>\n",
       "      <td>NaN</td>\n",
       "      <td>01-08-2001</td>\n",
       "      <td>NaN</td>\n",
       "      <td>News, Search and Messaging</td>\n",
       "    </tr>\n",
       "    <tr>\n",
       "      <th>2</th>\n",
       "      <td>/organization/aarohi-communication</td>\n",
       "      <td>Aarohi communication</td>\n",
       "      <td>application platforms</td>\n",
       "      <td>acquired</td>\n",
       "      <td>USA</td>\n",
       "      <td>CA</td>\n",
       "      <td>SF Bay Area</td>\n",
       "      <td>San Jose</td>\n",
       "      <td>NaN</td>\n",
       "      <td>venture</td>\n",
       "      <td>NaN</td>\n",
       "      <td>29-08-2003</td>\n",
       "      <td>6000000.00</td>\n",
       "      <td>News, Search and Messaging</td>\n",
       "    </tr>\n",
       "    <tr>\n",
       "      <th>3</th>\n",
       "      <td>/organization/aarohi-communication</td>\n",
       "      <td>Aarohi communication</td>\n",
       "      <td>application platforms</td>\n",
       "      <td>acquired</td>\n",
       "      <td>USA</td>\n",
       "      <td>CA</td>\n",
       "      <td>SF Bay Area</td>\n",
       "      <td>San Jose</td>\n",
       "      <td>NaN</td>\n",
       "      <td>venture</td>\n",
       "      <td>B</td>\n",
       "      <td>06-12-2002</td>\n",
       "      <td>8000000.00</td>\n",
       "      <td>News, Search and Messaging</td>\n",
       "    </tr>\n",
       "    <tr>\n",
       "      <th>6</th>\n",
       "      <td>/organization/appian</td>\n",
       "      <td>Appian</td>\n",
       "      <td>application platforms</td>\n",
       "      <td>operating</td>\n",
       "      <td>USA</td>\n",
       "      <td>VA</td>\n",
       "      <td>Washington, D.C.</td>\n",
       "      <td>Reston</td>\n",
       "      <td>17-08-1999</td>\n",
       "      <td>venture</td>\n",
       "      <td>NaN</td>\n",
       "      <td>03-03-2014</td>\n",
       "      <td>37499994.00</td>\n",
       "      <td>News, Search and Messaging</td>\n",
       "    </tr>\n",
       "    <tr>\n",
       "      <th>7</th>\n",
       "      <td>/organization/appian</td>\n",
       "      <td>Appian</td>\n",
       "      <td>application platforms</td>\n",
       "      <td>operating</td>\n",
       "      <td>USA</td>\n",
       "      <td>VA</td>\n",
       "      <td>Washington, D.C.</td>\n",
       "      <td>Reston</td>\n",
       "      <td>17-08-1999</td>\n",
       "      <td>venture</td>\n",
       "      <td>A</td>\n",
       "      <td>21-07-2008</td>\n",
       "      <td>10000000.00</td>\n",
       "      <td>News, Search and Messaging</td>\n",
       "    </tr>\n",
       "    <tr>\n",
       "      <th>8</th>\n",
       "      <td>/organization/appilog</td>\n",
       "      <td>Appilog</td>\n",
       "      <td>application platforms</td>\n",
       "      <td>acquired</td>\n",
       "      <td>USA</td>\n",
       "      <td>NY</td>\n",
       "      <td>New York City</td>\n",
       "      <td>New York</td>\n",
       "      <td>NaN</td>\n",
       "      <td>venture</td>\n",
       "      <td>B</td>\n",
       "      <td>15-01-2004</td>\n",
       "      <td>9000000.00</td>\n",
       "      <td>News, Search and Messaging</td>\n",
       "    </tr>\n",
       "    <tr>\n",
       "      <th>9</th>\n",
       "      <td>/organization/appilog</td>\n",
       "      <td>Appilog</td>\n",
       "      <td>application platforms</td>\n",
       "      <td>acquired</td>\n",
       "      <td>USA</td>\n",
       "      <td>NY</td>\n",
       "      <td>New York City</td>\n",
       "      <td>New York</td>\n",
       "      <td>NaN</td>\n",
       "      <td>venture</td>\n",
       "      <td>NaN</td>\n",
       "      <td>24-06-2003</td>\n",
       "      <td>6500000.00</td>\n",
       "      <td>News, Search and Messaging</td>\n",
       "    </tr>\n",
       "    <tr>\n",
       "      <th>10</th>\n",
       "      <td>/organization/bad-donkey-social</td>\n",
       "      <td>BDS Mobile</td>\n",
       "      <td>application platforms</td>\n",
       "      <td>operating</td>\n",
       "      <td>USA</td>\n",
       "      <td>WI</td>\n",
       "      <td>Madison</td>\n",
       "      <td>Madison</td>\n",
       "      <td>06-10-2011</td>\n",
       "      <td>venture</td>\n",
       "      <td>A</td>\n",
       "      <td>11-09-2014</td>\n",
       "      <td>1000000.00</td>\n",
       "      <td>News, Search and Messaging</td>\n",
       "    </tr>\n",
       "    <tr>\n",
       "      <th>12</th>\n",
       "      <td>/organization/bonsai-ai</td>\n",
       "      <td>Bonsai AI</td>\n",
       "      <td>application platforms</td>\n",
       "      <td>operating</td>\n",
       "      <td>USA</td>\n",
       "      <td>CA</td>\n",
       "      <td>SF Bay Area</td>\n",
       "      <td>Berkeley</td>\n",
       "      <td>18-02-2014</td>\n",
       "      <td>venture</td>\n",
       "      <td>A</td>\n",
       "      <td>03-04-2015</td>\n",
       "      <td>2200000.00</td>\n",
       "      <td>News, Search and Messaging</td>\n",
       "    </tr>\n",
       "  </tbody>\n",
       "</table>\n",
       "</div>"
      ],
      "text/plain": [
       "                             permalink                  name  \\\n",
       "0               /organization/-qounter              :Qounter   \n",
       "1   /organization/aarohi-communication  Aarohi communication   \n",
       "2   /organization/aarohi-communication  Aarohi communication   \n",
       "3   /organization/aarohi-communication  Aarohi communication   \n",
       "6                 /organization/appian                Appian   \n",
       "7                 /organization/appian                Appian   \n",
       "8                /organization/appilog               Appilog   \n",
       "9                /organization/appilog               Appilog   \n",
       "10     /organization/bad-donkey-social            BDS Mobile   \n",
       "12             /organization/bonsai-ai             Bonsai AI   \n",
       "\n",
       "           primary_sector     status country_code state_code  \\\n",
       "0   application platforms  operating          USA         DE   \n",
       "1   application platforms   acquired          USA         CA   \n",
       "2   application platforms   acquired          USA         CA   \n",
       "3   application platforms   acquired          USA         CA   \n",
       "6   application platforms  operating          USA         VA   \n",
       "7   application platforms  operating          USA         VA   \n",
       "8   application platforms   acquired          USA         NY   \n",
       "9   application platforms   acquired          USA         NY   \n",
       "10  application platforms  operating          USA         WI   \n",
       "12  application platforms  operating          USA         CA   \n",
       "\n",
       "              region           city  founded_at funding_round_type  \\\n",
       "0         DE - Other  Delaware City  04-09-2014            venture   \n",
       "1        SF Bay Area       San Jose         NaN            venture   \n",
       "2        SF Bay Area       San Jose         NaN            venture   \n",
       "3        SF Bay Area       San Jose         NaN            venture   \n",
       "6   Washington, D.C.         Reston  17-08-1999            venture   \n",
       "7   Washington, D.C.         Reston  17-08-1999            venture   \n",
       "8      New York City       New York         NaN            venture   \n",
       "9      New York City       New York         NaN            venture   \n",
       "10           Madison        Madison  06-10-2011            venture   \n",
       "12       SF Bay Area       Berkeley  18-02-2014            venture   \n",
       "\n",
       "   funding_round_code   funded_at  raised_amount_usd  \\\n",
       "0                   A  14-10-2014                NaN   \n",
       "1                 NaN  01-08-2001                NaN   \n",
       "2                 NaN  29-08-2003         6000000.00   \n",
       "3                   B  06-12-2002         8000000.00   \n",
       "6                 NaN  03-03-2014        37499994.00   \n",
       "7                   A  21-07-2008        10000000.00   \n",
       "8                   B  15-01-2004         9000000.00   \n",
       "9                 NaN  24-06-2003         6500000.00   \n",
       "10                  A  11-09-2014         1000000.00   \n",
       "12                  A  03-04-2015         2200000.00   \n",
       "\n",
       "                   main_sector  \n",
       "0   News, Search and Messaging  \n",
       "1   News, Search and Messaging  \n",
       "2   News, Search and Messaging  \n",
       "3   News, Search and Messaging  \n",
       "6   News, Search and Messaging  \n",
       "7   News, Search and Messaging  \n",
       "8   News, Search and Messaging  \n",
       "9   News, Search and Messaging  \n",
       "10  News, Search and Messaging  \n",
       "12  News, Search and Messaging  "
      ]
     },
     "execution_count": 1419,
     "metadata": {},
     "output_type": "execute_result"
    }
   ],
   "source": [
    "D1_USA.head(10)"
   ]
  },
  {
   "cell_type": "code",
   "execution_count": 1420,
   "id": "175fd976",
   "metadata": {},
   "outputs": [
    {
     "data": {
      "text/html": [
       "<div>\n",
       "<style scoped>\n",
       "    .dataframe tbody tr th:only-of-type {\n",
       "        vertical-align: middle;\n",
       "    }\n",
       "\n",
       "    .dataframe tbody tr th {\n",
       "        vertical-align: top;\n",
       "    }\n",
       "\n",
       "    .dataframe thead th {\n",
       "        text-align: right;\n",
       "    }\n",
       "</style>\n",
       "<table border=\"1\" class=\"dataframe\">\n",
       "  <thead>\n",
       "    <tr style=\"text-align: right;\">\n",
       "      <th></th>\n",
       "      <th>permalink</th>\n",
       "      <th>name</th>\n",
       "      <th>primary_sector</th>\n",
       "      <th>status</th>\n",
       "      <th>country_code</th>\n",
       "      <th>state_code</th>\n",
       "      <th>region</th>\n",
       "      <th>city</th>\n",
       "      <th>founded_at</th>\n",
       "      <th>funding_round_type</th>\n",
       "      <th>funding_round_code</th>\n",
       "      <th>funded_at</th>\n",
       "      <th>raised_amount_usd</th>\n",
       "      <th>main_sector</th>\n",
       "    </tr>\n",
       "  </thead>\n",
       "  <tbody>\n",
       "    <tr>\n",
       "      <th>18</th>\n",
       "      <td>/organization/common-interest-communities</td>\n",
       "      <td>Common Interest Communities</td>\n",
       "      <td>application platforms</td>\n",
       "      <td>operating</td>\n",
       "      <td>GBR</td>\n",
       "      <td>H9</td>\n",
       "      <td>London</td>\n",
       "      <td>London</td>\n",
       "      <td>NaN</td>\n",
       "      <td>venture</td>\n",
       "      <td>NaN</td>\n",
       "      <td>09-07-2014</td>\n",
       "      <td>10000000.00</td>\n",
       "      <td>News, Search and Messaging</td>\n",
       "    </tr>\n",
       "    <tr>\n",
       "      <th>24</th>\n",
       "      <td>/organization/geospock-ltd-</td>\n",
       "      <td>GeoSpock Ltd.</td>\n",
       "      <td>application platforms</td>\n",
       "      <td>operating</td>\n",
       "      <td>GBR</td>\n",
       "      <td>C3</td>\n",
       "      <td>London</td>\n",
       "      <td>Cambridge</td>\n",
       "      <td>01-01-2013</td>\n",
       "      <td>venture</td>\n",
       "      <td>NaN</td>\n",
       "      <td>01-10-2014</td>\n",
       "      <td>5460000.00</td>\n",
       "      <td>News, Search and Messaging</td>\n",
       "    </tr>\n",
       "    <tr>\n",
       "      <th>25</th>\n",
       "      <td>/organization/geospock-ltd-</td>\n",
       "      <td>GeoSpock Ltd.</td>\n",
       "      <td>application platforms</td>\n",
       "      <td>operating</td>\n",
       "      <td>GBR</td>\n",
       "      <td>C3</td>\n",
       "      <td>London</td>\n",
       "      <td>Cambridge</td>\n",
       "      <td>01-01-2013</td>\n",
       "      <td>venture</td>\n",
       "      <td>A</td>\n",
       "      <td>05-10-2015</td>\n",
       "      <td>5400000.00</td>\n",
       "      <td>News, Search and Messaging</td>\n",
       "    </tr>\n",
       "    <tr>\n",
       "      <th>31</th>\n",
       "      <td>/organization/lemonade-3</td>\n",
       "      <td>Takumi</td>\n",
       "      <td>application platforms</td>\n",
       "      <td>operating</td>\n",
       "      <td>GBR</td>\n",
       "      <td>H9</td>\n",
       "      <td>London</td>\n",
       "      <td>London</td>\n",
       "      <td>01-06-2015</td>\n",
       "      <td>venture</td>\n",
       "      <td>NaN</td>\n",
       "      <td>01-04-2015</td>\n",
       "      <td>NaN</td>\n",
       "      <td>News, Search and Messaging</td>\n",
       "    </tr>\n",
       "    <tr>\n",
       "      <th>52</th>\n",
       "      <td>/organization/tao-group-2</td>\n",
       "      <td>Tao Group</td>\n",
       "      <td>application platforms</td>\n",
       "      <td>operating</td>\n",
       "      <td>GBR</td>\n",
       "      <td>K7</td>\n",
       "      <td>London</td>\n",
       "      <td>Reading</td>\n",
       "      <td>01-01-1992</td>\n",
       "      <td>venture</td>\n",
       "      <td>NaN</td>\n",
       "      <td>06-05-2004</td>\n",
       "      <td>7000000.00</td>\n",
       "      <td>News, Search and Messaging</td>\n",
       "    </tr>\n",
       "    <tr>\n",
       "      <th>...</th>\n",
       "      <td>...</td>\n",
       "      <td>...</td>\n",
       "      <td>...</td>\n",
       "      <td>...</td>\n",
       "      <td>...</td>\n",
       "      <td>...</td>\n",
       "      <td>...</td>\n",
       "      <td>...</td>\n",
       "      <td>...</td>\n",
       "      <td>...</td>\n",
       "      <td>...</td>\n",
       "      <td>...</td>\n",
       "      <td>...</td>\n",
       "      <td>...</td>\n",
       "    </tr>\n",
       "    <tr>\n",
       "      <th>38757</th>\n",
       "      <td>/organization/skin-analytics</td>\n",
       "      <td>Skin Analytics</td>\n",
       "      <td>mhealth</td>\n",
       "      <td>operating</td>\n",
       "      <td>GBR</td>\n",
       "      <td>C3</td>\n",
       "      <td>London</td>\n",
       "      <td>Cambridge</td>\n",
       "      <td>01-05-2012</td>\n",
       "      <td>venture</td>\n",
       "      <td>NaN</td>\n",
       "      <td>09-07-2014</td>\n",
       "      <td>100000.00</td>\n",
       "      <td>Health</td>\n",
       "    </tr>\n",
       "    <tr>\n",
       "      <th>38758</th>\n",
       "      <td>/organization/skinkers</td>\n",
       "      <td>Skinkers</td>\n",
       "      <td>peer-to-peer</td>\n",
       "      <td>acquired</td>\n",
       "      <td>GBR</td>\n",
       "      <td>H9</td>\n",
       "      <td>London</td>\n",
       "      <td>London</td>\n",
       "      <td>01-01-1999</td>\n",
       "      <td>venture</td>\n",
       "      <td>B</td>\n",
       "      <td>01-10-2007</td>\n",
       "      <td>16000000.00</td>\n",
       "      <td>News, Search and Messaging</td>\n",
       "    </tr>\n",
       "    <tr>\n",
       "      <th>38759</th>\n",
       "      <td>/organization/skinkers</td>\n",
       "      <td>Skinkers</td>\n",
       "      <td>peer-to-peer</td>\n",
       "      <td>acquired</td>\n",
       "      <td>GBR</td>\n",
       "      <td>H9</td>\n",
       "      <td>London</td>\n",
       "      <td>London</td>\n",
       "      <td>01-01-1999</td>\n",
       "      <td>venture</td>\n",
       "      <td>NaN</td>\n",
       "      <td>29-01-2007</td>\n",
       "      <td>3914268.00</td>\n",
       "      <td>News, Search and Messaging</td>\n",
       "    </tr>\n",
       "    <tr>\n",
       "      <th>38766</th>\n",
       "      <td>/organization/thoughtbubble-productions</td>\n",
       "      <td>Thoughtbubble Productions</td>\n",
       "      <td>web design</td>\n",
       "      <td>operating</td>\n",
       "      <td>GBR</td>\n",
       "      <td>H9</td>\n",
       "      <td>London</td>\n",
       "      <td>London</td>\n",
       "      <td>NaN</td>\n",
       "      <td>venture</td>\n",
       "      <td>A</td>\n",
       "      <td>16-01-2001</td>\n",
       "      <td>4000000.00</td>\n",
       "      <td>News, Search and Messaging</td>\n",
       "    </tr>\n",
       "    <tr>\n",
       "      <th>38785</th>\n",
       "      <td>/organization/vector-watch</td>\n",
       "      <td>Vector Watch</td>\n",
       "      <td>watch</td>\n",
       "      <td>operating</td>\n",
       "      <td>GBR</td>\n",
       "      <td>H9</td>\n",
       "      <td>London</td>\n",
       "      <td>London</td>\n",
       "      <td>01-01-2013</td>\n",
       "      <td>venture</td>\n",
       "      <td>NaN</td>\n",
       "      <td>25-11-2015</td>\n",
       "      <td>5000000.00</td>\n",
       "      <td>Others</td>\n",
       "    </tr>\n",
       "  </tbody>\n",
       "</table>\n",
       "<p>1972 rows × 14 columns</p>\n",
       "</div>"
      ],
      "text/plain": [
       "                                       permalink                         name  \\\n",
       "18     /organization/common-interest-communities  Common Interest Communities   \n",
       "24                   /organization/geospock-ltd-                GeoSpock Ltd.   \n",
       "25                   /organization/geospock-ltd-                GeoSpock Ltd.   \n",
       "31                      /organization/lemonade-3                       Takumi   \n",
       "52                     /organization/tao-group-2                    Tao Group   \n",
       "...                                          ...                          ...   \n",
       "38757               /organization/skin-analytics               Skin Analytics   \n",
       "38758                     /organization/skinkers                     Skinkers   \n",
       "38759                     /organization/skinkers                     Skinkers   \n",
       "38766    /organization/thoughtbubble-productions    Thoughtbubble Productions   \n",
       "38785                 /organization/vector-watch                 Vector Watch   \n",
       "\n",
       "              primary_sector     status country_code state_code  region  \\\n",
       "18     application platforms  operating          GBR         H9  London   \n",
       "24     application platforms  operating          GBR         C3  London   \n",
       "25     application platforms  operating          GBR         C3  London   \n",
       "31     application platforms  operating          GBR         H9  London   \n",
       "52     application platforms  operating          GBR         K7  London   \n",
       "...                      ...        ...          ...        ...     ...   \n",
       "38757                mhealth  operating          GBR         C3  London   \n",
       "38758           peer-to-peer   acquired          GBR         H9  London   \n",
       "38759           peer-to-peer   acquired          GBR         H9  London   \n",
       "38766             web design  operating          GBR         H9  London   \n",
       "38785                  watch  operating          GBR         H9  London   \n",
       "\n",
       "            city  founded_at funding_round_type funding_round_code  \\\n",
       "18        London         NaN            venture                NaN   \n",
       "24     Cambridge  01-01-2013            venture                NaN   \n",
       "25     Cambridge  01-01-2013            venture                  A   \n",
       "31        London  01-06-2015            venture                NaN   \n",
       "52       Reading  01-01-1992            venture                NaN   \n",
       "...          ...         ...                ...                ...   \n",
       "38757  Cambridge  01-05-2012            venture                NaN   \n",
       "38758     London  01-01-1999            venture                  B   \n",
       "38759     London  01-01-1999            venture                NaN   \n",
       "38766     London         NaN            venture                  A   \n",
       "38785     London  01-01-2013            venture                NaN   \n",
       "\n",
       "        funded_at  raised_amount_usd                 main_sector  \n",
       "18     09-07-2014        10000000.00  News, Search and Messaging  \n",
       "24     01-10-2014         5460000.00  News, Search and Messaging  \n",
       "25     05-10-2015         5400000.00  News, Search and Messaging  \n",
       "31     01-04-2015                NaN  News, Search and Messaging  \n",
       "52     06-05-2004         7000000.00  News, Search and Messaging  \n",
       "...           ...                ...                         ...  \n",
       "38757  09-07-2014          100000.00                      Health  \n",
       "38758  01-10-2007        16000000.00  News, Search and Messaging  \n",
       "38759  29-01-2007         3914268.00  News, Search and Messaging  \n",
       "38766  16-01-2001         4000000.00  News, Search and Messaging  \n",
       "38785  25-11-2015         5000000.00                      Others  \n",
       "\n",
       "[1972 rows x 14 columns]"
      ]
     },
     "execution_count": 1420,
     "metadata": {},
     "output_type": "execute_result"
    }
   ],
   "source": [
    "D2_GBR"
   ]
  },
  {
   "cell_type": "code",
   "execution_count": 1421,
   "id": "38149e9e",
   "metadata": {},
   "outputs": [
    {
     "data": {
      "text/html": [
       "<div>\n",
       "<style scoped>\n",
       "    .dataframe tbody tr th:only-of-type {\n",
       "        vertical-align: middle;\n",
       "    }\n",
       "\n",
       "    .dataframe tbody tr th {\n",
       "        vertical-align: top;\n",
       "    }\n",
       "\n",
       "    .dataframe thead th {\n",
       "        text-align: right;\n",
       "    }\n",
       "</style>\n",
       "<table border=\"1\" class=\"dataframe\">\n",
       "  <thead>\n",
       "    <tr style=\"text-align: right;\">\n",
       "      <th></th>\n",
       "      <th>permalink</th>\n",
       "      <th>name</th>\n",
       "      <th>primary_sector</th>\n",
       "      <th>status</th>\n",
       "      <th>country_code</th>\n",
       "      <th>state_code</th>\n",
       "      <th>region</th>\n",
       "      <th>city</th>\n",
       "      <th>founded_at</th>\n",
       "      <th>funding_round_type</th>\n",
       "      <th>funding_round_code</th>\n",
       "      <th>funded_at</th>\n",
       "      <th>raised_amount_usd</th>\n",
       "      <th>main_sector</th>\n",
       "    </tr>\n",
       "  </thead>\n",
       "  <tbody>\n",
       "    <tr>\n",
       "      <th>34</th>\n",
       "      <td>/organization/mmb-networks</td>\n",
       "      <td>MMB Networks</td>\n",
       "      <td>application platforms</td>\n",
       "      <td>operating</td>\n",
       "      <td>CAN</td>\n",
       "      <td>ON</td>\n",
       "      <td>Toronto</td>\n",
       "      <td>Toronto</td>\n",
       "      <td>01-01-2008</td>\n",
       "      <td>venture</td>\n",
       "      <td>A</td>\n",
       "      <td>01-12-2013</td>\n",
       "      <td>3000000.00</td>\n",
       "      <td>News, Search and Messaging</td>\n",
       "    </tr>\n",
       "    <tr>\n",
       "      <th>73</th>\n",
       "      <td>/organization/2catalyze</td>\n",
       "      <td>2Catalyze</td>\n",
       "      <td>software</td>\n",
       "      <td>operating</td>\n",
       "      <td>CAN</td>\n",
       "      <td>ON</td>\n",
       "      <td>Toronto</td>\n",
       "      <td>Toronto</td>\n",
       "      <td>01-01-2008</td>\n",
       "      <td>venture</td>\n",
       "      <td>NaN</td>\n",
       "      <td>25-08-2010</td>\n",
       "      <td>6785876.00</td>\n",
       "      <td>Others</td>\n",
       "    </tr>\n",
       "    <tr>\n",
       "      <th>74</th>\n",
       "      <td>/organization/360incentives-com</td>\n",
       "      <td>360incentives.com</td>\n",
       "      <td>software</td>\n",
       "      <td>operating</td>\n",
       "      <td>CAN</td>\n",
       "      <td>ON</td>\n",
       "      <td>Toronto</td>\n",
       "      <td>Whitby</td>\n",
       "      <td>01-01-2008</td>\n",
       "      <td>venture</td>\n",
       "      <td>NaN</td>\n",
       "      <td>15-01-2013</td>\n",
       "      <td>7650000.00</td>\n",
       "      <td>Others</td>\n",
       "    </tr>\n",
       "    <tr>\n",
       "      <th>163</th>\n",
       "      <td>/organization/agora-mobile</td>\n",
       "      <td>Agora Mobile</td>\n",
       "      <td>software</td>\n",
       "      <td>operating</td>\n",
       "      <td>CAN</td>\n",
       "      <td>ON</td>\n",
       "      <td>Moncton</td>\n",
       "      <td>Moncton</td>\n",
       "      <td>01-01-2009</td>\n",
       "      <td>venture</td>\n",
       "      <td>NaN</td>\n",
       "      <td>31-03-2014</td>\n",
       "      <td>1000000.00</td>\n",
       "      <td>Others</td>\n",
       "    </tr>\n",
       "    <tr>\n",
       "      <th>164</th>\n",
       "      <td>/organization/aimetis</td>\n",
       "      <td>Aimetis</td>\n",
       "      <td>software</td>\n",
       "      <td>operating</td>\n",
       "      <td>CAN</td>\n",
       "      <td>ON</td>\n",
       "      <td>Toronto</td>\n",
       "      <td>Waterloo</td>\n",
       "      <td>01-01-2001</td>\n",
       "      <td>venture</td>\n",
       "      <td>A</td>\n",
       "      <td>04-03-2010</td>\n",
       "      <td>5000000.00</td>\n",
       "      <td>Others</td>\n",
       "    </tr>\n",
       "    <tr>\n",
       "      <th>...</th>\n",
       "      <td>...</td>\n",
       "      <td>...</td>\n",
       "      <td>...</td>\n",
       "      <td>...</td>\n",
       "      <td>...</td>\n",
       "      <td>...</td>\n",
       "      <td>...</td>\n",
       "      <td>...</td>\n",
       "      <td>...</td>\n",
       "      <td>...</td>\n",
       "      <td>...</td>\n",
       "      <td>...</td>\n",
       "      <td>...</td>\n",
       "      <td>...</td>\n",
       "    </tr>\n",
       "    <tr>\n",
       "      <th>38711</th>\n",
       "      <td>/organization/rewardloop</td>\n",
       "      <td>RewardLoop</td>\n",
       "      <td>incentives</td>\n",
       "      <td>operating</td>\n",
       "      <td>CAN</td>\n",
       "      <td>BC</td>\n",
       "      <td>Vancouver</td>\n",
       "      <td>Vancouver</td>\n",
       "      <td>15-05-2010</td>\n",
       "      <td>venture</td>\n",
       "      <td>A</td>\n",
       "      <td>09-05-2012</td>\n",
       "      <td>1000000.00</td>\n",
       "      <td>Social, Finance, Analytics, Advertising</td>\n",
       "    </tr>\n",
       "    <tr>\n",
       "      <th>38712</th>\n",
       "      <td>/organization/rewardloop</td>\n",
       "      <td>RewardLoop</td>\n",
       "      <td>incentives</td>\n",
       "      <td>operating</td>\n",
       "      <td>CAN</td>\n",
       "      <td>BC</td>\n",
       "      <td>Vancouver</td>\n",
       "      <td>Vancouver</td>\n",
       "      <td>15-05-2010</td>\n",
       "      <td>venture</td>\n",
       "      <td>NaN</td>\n",
       "      <td>27-05-2011</td>\n",
       "      <td>250000.00</td>\n",
       "      <td>Social, Finance, Analytics, Advertising</td>\n",
       "    </tr>\n",
       "    <tr>\n",
       "      <th>38738</th>\n",
       "      <td>/organization/sava-transmedia</td>\n",
       "      <td>Sava Transmedia</td>\n",
       "      <td>social games</td>\n",
       "      <td>operating</td>\n",
       "      <td>CAN</td>\n",
       "      <td>QC</td>\n",
       "      <td>Montreal</td>\n",
       "      <td>Montréal</td>\n",
       "      <td>01-05-2011</td>\n",
       "      <td>venture</td>\n",
       "      <td>A</td>\n",
       "      <td>28-04-2011</td>\n",
       "      <td>3152231.00</td>\n",
       "      <td>Social, Finance, Analytics, Advertising</td>\n",
       "    </tr>\n",
       "    <tr>\n",
       "      <th>38760</th>\n",
       "      <td>/organization/smart-ecosystems</td>\n",
       "      <td>Smart Ecosystems</td>\n",
       "      <td>virtual workforces</td>\n",
       "      <td>operating</td>\n",
       "      <td>CAN</td>\n",
       "      <td>AB</td>\n",
       "      <td>Calgary</td>\n",
       "      <td>Calgary</td>\n",
       "      <td>01-01-1987</td>\n",
       "      <td>venture</td>\n",
       "      <td>NaN</td>\n",
       "      <td>11-03-2014</td>\n",
       "      <td>NaN</td>\n",
       "      <td>Entertainment</td>\n",
       "    </tr>\n",
       "    <tr>\n",
       "      <th>38768</th>\n",
       "      <td>/organization/statusnet</td>\n",
       "      <td>StatusNet</td>\n",
       "      <td>microblogging</td>\n",
       "      <td>operating</td>\n",
       "      <td>CAN</td>\n",
       "      <td>QC</td>\n",
       "      <td>Montreal</td>\n",
       "      <td>Montréal</td>\n",
       "      <td>01-04-2007</td>\n",
       "      <td>venture</td>\n",
       "      <td>A</td>\n",
       "      <td>03-08-2010</td>\n",
       "      <td>1270000.00</td>\n",
       "      <td>News, Search and Messaging</td>\n",
       "    </tr>\n",
       "  </tbody>\n",
       "</table>\n",
       "<p>1159 rows × 14 columns</p>\n",
       "</div>"
      ],
      "text/plain": [
       "                             permalink               name  \\\n",
       "34          /organization/mmb-networks       MMB Networks   \n",
       "73             /organization/2catalyze          2Catalyze   \n",
       "74     /organization/360incentives-com  360incentives.com   \n",
       "163         /organization/agora-mobile       Agora Mobile   \n",
       "164              /organization/aimetis            Aimetis   \n",
       "...                                ...                ...   \n",
       "38711         /organization/rewardloop         RewardLoop   \n",
       "38712         /organization/rewardloop         RewardLoop   \n",
       "38738    /organization/sava-transmedia    Sava Transmedia   \n",
       "38760   /organization/smart-ecosystems   Smart Ecosystems   \n",
       "38768          /organization/statusnet          StatusNet   \n",
       "\n",
       "              primary_sector     status country_code state_code     region  \\\n",
       "34     application platforms  operating          CAN         ON    Toronto   \n",
       "73                  software  operating          CAN         ON    Toronto   \n",
       "74                  software  operating          CAN         ON    Toronto   \n",
       "163                 software  operating          CAN         ON    Moncton   \n",
       "164                 software  operating          CAN         ON    Toronto   \n",
       "...                      ...        ...          ...        ...        ...   \n",
       "38711             incentives  operating          CAN         BC  Vancouver   \n",
       "38712             incentives  operating          CAN         BC  Vancouver   \n",
       "38738           social games  operating          CAN         QC   Montreal   \n",
       "38760     virtual workforces  operating          CAN         AB    Calgary   \n",
       "38768          microblogging  operating          CAN         QC   Montreal   \n",
       "\n",
       "            city  founded_at funding_round_type funding_round_code  \\\n",
       "34       Toronto  01-01-2008            venture                  A   \n",
       "73       Toronto  01-01-2008            venture                NaN   \n",
       "74        Whitby  01-01-2008            venture                NaN   \n",
       "163      Moncton  01-01-2009            venture                NaN   \n",
       "164     Waterloo  01-01-2001            venture                  A   \n",
       "...          ...         ...                ...                ...   \n",
       "38711  Vancouver  15-05-2010            venture                  A   \n",
       "38712  Vancouver  15-05-2010            venture                NaN   \n",
       "38738   Montréal  01-05-2011            venture                  A   \n",
       "38760    Calgary  01-01-1987            venture                NaN   \n",
       "38768   Montréal  01-04-2007            venture                  A   \n",
       "\n",
       "        funded_at  raised_amount_usd                              main_sector  \n",
       "34     01-12-2013         3000000.00               News, Search and Messaging  \n",
       "73     25-08-2010         6785876.00                                   Others  \n",
       "74     15-01-2013         7650000.00                                   Others  \n",
       "163    31-03-2014         1000000.00                                   Others  \n",
       "164    04-03-2010         5000000.00                                   Others  \n",
       "...           ...                ...                                      ...  \n",
       "38711  09-05-2012         1000000.00  Social, Finance, Analytics, Advertising  \n",
       "38712  27-05-2011          250000.00  Social, Finance, Analytics, Advertising  \n",
       "38738  28-04-2011         3152231.00  Social, Finance, Analytics, Advertising  \n",
       "38760  11-03-2014                NaN                            Entertainment  \n",
       "38768  03-08-2010         1270000.00               News, Search and Messaging  \n",
       "\n",
       "[1159 rows x 14 columns]"
      ]
     },
     "execution_count": 1421,
     "metadata": {},
     "output_type": "execute_result"
    }
   ],
   "source": [
    "D3_CAN"
   ]
  },
  {
   "cell_type": "markdown",
   "id": "dcce6a6d",
   "metadata": {},
   "source": [
    "### Table 5.1 sector-wise Investment Analysis"
   ]
  },
  {
   "cell_type": "markdown",
   "id": "ab6694b2",
   "metadata": {},
   "source": [
    "#### 1. Total number of investments (count)"
   ]
  },
  {
   "cell_type": "code",
   "execution_count": 1422,
   "id": "52e0e86b",
   "metadata": {},
   "outputs": [
    {
     "data": {
      "text/plain": [
       "31272"
      ]
     },
     "execution_count": 1422,
     "metadata": {},
     "output_type": "execute_result"
    }
   ],
   "source": [
    "# USA\n",
    "D1_USA.raised_amount_usd.count()"
   ]
  },
  {
   "cell_type": "code",
   "execution_count": 1423,
   "id": "e1a37b41",
   "metadata": {},
   "outputs": [
    {
     "data": {
      "text/plain": [
       "1783"
      ]
     },
     "execution_count": 1423,
     "metadata": {},
     "output_type": "execute_result"
    }
   ],
   "source": [
    "# GBR\n",
    "D2_GBR.raised_amount_usd.count()"
   ]
  },
  {
   "cell_type": "code",
   "execution_count": 1424,
   "id": "3e9e9dd5",
   "metadata": {},
   "outputs": [
    {
     "data": {
      "text/plain": [
       "1081"
      ]
     },
     "execution_count": 1424,
     "metadata": {},
     "output_type": "execute_result"
    }
   ],
   "source": [
    "# CAN\n",
    "D3_CAN.raised_amount_usd.count()"
   ]
  },
  {
   "cell_type": "markdown",
   "id": "c2db5b77",
   "metadata": {},
   "source": [
    "####  2. Total amount of investment (USD)"
   ]
  },
  {
   "cell_type": "code",
   "execution_count": 1425,
   "id": "f5060ba0",
   "metadata": {},
   "outputs": [
    {
     "data": {
      "text/plain": [
       "371038978034.0"
      ]
     },
     "execution_count": 1425,
     "metadata": {},
     "output_type": "execute_result"
    }
   ],
   "source": [
    "# USA\n",
    "D1_USA.raised_amount_usd.sum()"
   ]
  },
  {
   "cell_type": "code",
   "execution_count": 1426,
   "id": "7cb86ac4",
   "metadata": {},
   "outputs": [
    {
     "data": {
      "text/plain": [
       "17125001082.0"
      ]
     },
     "execution_count": 1426,
     "metadata": {},
     "output_type": "execute_result"
    }
   ],
   "source": [
    "# GBR\n",
    "D2_GBR.raised_amount_usd.sum()"
   ]
  },
  {
   "cell_type": "code",
   "execution_count": 1427,
   "id": "d22d3402",
   "metadata": {},
   "outputs": [
    {
     "data": {
      "text/plain": [
       "8005745380.0"
      ]
     },
     "execution_count": 1427,
     "metadata": {},
     "output_type": "execute_result"
    }
   ],
   "source": [
    "# CAN\n",
    "D3_CAN.raised_amount_usd.sum()"
   ]
  },
  {
   "cell_type": "code",
   "execution_count": 1428,
   "id": "624bfa8d",
   "metadata": {},
   "outputs": [
    {
     "data": {
      "text/plain": [
       "main_sector\n",
       "Others                                     7703\n",
       "Cleantech / Semiconductors                 7374\n",
       "Social, Finance, Analytics, Advertising    4843\n",
       "News, Search and Messaging                 3936\n",
       "Health                                     3072\n",
       "Manufacturing                              2287\n",
       "Entertainment                              1579\n",
       "Automotive & Sports                         478\n",
       "Name: raised_amount_usd, dtype: int64"
      ]
     },
     "execution_count": 1428,
     "metadata": {},
     "output_type": "execute_result"
    }
   ],
   "source": [
    "# USA - Getting sector-wise investment count and sorting in descending\n",
    "sector_wise_count_USA = D1_USA.groupby('main_sector').raised_amount_usd.count().sort_values(ascending = False)\n",
    "sector_wise_count_USA"
   ]
  },
  {
   "cell_type": "code",
   "execution_count": 1429,
   "id": "abf62a74",
   "metadata": {},
   "outputs": [
    {
     "data": {
      "text/plain": [
       "main_sector\n",
       "Others                                     476\n",
       "Cleantech / Semiconductors                 400\n",
       "Social, Finance, Analytics, Advertising    297\n",
       "News, Search and Messaging                 222\n",
       "Entertainment                              121\n",
       "Manufacturing                              115\n",
       "Health                                     111\n",
       "Automotive & Sports                         41\n",
       "Name: raised_amount_usd, dtype: int64"
      ]
     },
     "execution_count": 1429,
     "metadata": {},
     "output_type": "execute_result"
    }
   ],
   "source": [
    "# GBR - Getting sector-wise investment count and sorting in descending\n",
    "sector_wise_count_GBR = D2_GBR.groupby('main_sector').raised_amount_usd.count().sort_values(ascending = False)\n",
    "sector_wise_count_GBR"
   ]
  },
  {
   "cell_type": "code",
   "execution_count": 1430,
   "id": "420c612c",
   "metadata": {},
   "outputs": [
    {
     "data": {
      "text/plain": [
       "main_sector\n",
       "Cleantech / Semiconductors                 297\n",
       "Others                                     296\n",
       "Social, Finance, Analytics, Advertising    151\n",
       "News, Search and Messaging                 123\n",
       "Manufacturing                               96\n",
       "Health                                      57\n",
       "Entertainment                               47\n",
       "Automotive & Sports                         14\n",
       "Name: raised_amount_usd, dtype: int64"
      ]
     },
     "execution_count": 1430,
     "metadata": {},
     "output_type": "execute_result"
    }
   ],
   "source": [
    "# CAN - Getting sector-wise investment count and sorting in descending\n",
    "sector_wise_count_CAN = D3_CAN.groupby('main_sector').raised_amount_usd.count().sort_values(ascending = False)\n",
    "sector_wise_count_CAN"
   ]
  },
  {
   "cell_type": "markdown",
   "id": "50f1931c",
   "metadata": {},
   "source": [
    "With these three, answering the following six questions."
   ]
  },
  {
   "cell_type": "markdown",
   "id": "e49aa16f",
   "metadata": {},
   "source": [
    "####  3. Top sector (based on count of investments)"
   ]
  },
  {
   "cell_type": "code",
   "execution_count": 1431,
   "id": "fa680859",
   "metadata": {},
   "outputs": [
    {
     "data": {
      "text/plain": [
       "'Others'"
      ]
     },
     "execution_count": 1431,
     "metadata": {},
     "output_type": "execute_result"
    }
   ],
   "source": [
    "# Top sector - USA\n",
    "sector_wise_count_USA.index[0]"
   ]
  },
  {
   "cell_type": "code",
   "execution_count": 1432,
   "id": "13b25d6e",
   "metadata": {},
   "outputs": [
    {
     "data": {
      "text/plain": [
       "'Others'"
      ]
     },
     "execution_count": 1432,
     "metadata": {},
     "output_type": "execute_result"
    }
   ],
   "source": [
    "# Top sector - GBR\n",
    "sector_wise_count_GBR.index[0]"
   ]
  },
  {
   "cell_type": "code",
   "execution_count": 1433,
   "id": "50b43425",
   "metadata": {},
   "outputs": [
    {
     "data": {
      "text/plain": [
       "'Cleantech / Semiconductors'"
      ]
     },
     "execution_count": 1433,
     "metadata": {},
     "output_type": "execute_result"
    }
   ],
   "source": [
    "# Top sector - CAN\n",
    "sector_wise_count_CAN.index[0]"
   ]
  },
  {
   "cell_type": "markdown",
   "id": "af125d57",
   "metadata": {},
   "source": [
    "####   4. Second-best sector (based on count of investments)"
   ]
  },
  {
   "cell_type": "code",
   "execution_count": 1434,
   "id": "c4fe4a08",
   "metadata": {},
   "outputs": [
    {
     "data": {
      "text/plain": [
       "'Cleantech / Semiconductors'"
      ]
     },
     "execution_count": 1434,
     "metadata": {},
     "output_type": "execute_result"
    }
   ],
   "source": [
    "# USA\n",
    "sector_wise_count_USA.index[1]"
   ]
  },
  {
   "cell_type": "code",
   "execution_count": 1435,
   "id": "b49392b5",
   "metadata": {},
   "outputs": [
    {
     "data": {
      "text/plain": [
       "'Cleantech / Semiconductors'"
      ]
     },
     "execution_count": 1435,
     "metadata": {},
     "output_type": "execute_result"
    }
   ],
   "source": [
    "# GBR\n",
    "sector_wise_count_GBR.index[1]"
   ]
  },
  {
   "cell_type": "code",
   "execution_count": 1436,
   "id": "ccf9cc3f",
   "metadata": {},
   "outputs": [
    {
     "data": {
      "text/plain": [
       "'Others'"
      ]
     },
     "execution_count": 1436,
     "metadata": {},
     "output_type": "execute_result"
    }
   ],
   "source": [
    "# CAN\n",
    "sector_wise_count_CAN.index[1]"
   ]
  },
  {
   "cell_type": "markdown",
   "id": "965b98c9",
   "metadata": {},
   "source": [
    "####  5. Third-best sector (based on count of investments)"
   ]
  },
  {
   "cell_type": "code",
   "execution_count": 1437,
   "id": "79db1769",
   "metadata": {},
   "outputs": [
    {
     "data": {
      "text/plain": [
       "'Social, Finance, Analytics, Advertising'"
      ]
     },
     "execution_count": 1437,
     "metadata": {},
     "output_type": "execute_result"
    }
   ],
   "source": [
    "# USA\n",
    "sector_wise_count_USA.index[2]"
   ]
  },
  {
   "cell_type": "code",
   "execution_count": 1438,
   "id": "95955ced",
   "metadata": {},
   "outputs": [
    {
     "data": {
      "text/plain": [
       "'Social, Finance, Analytics, Advertising'"
      ]
     },
     "execution_count": 1438,
     "metadata": {},
     "output_type": "execute_result"
    }
   ],
   "source": [
    "# GBR\n",
    "sector_wise_count_GBR.index[2]"
   ]
  },
  {
   "cell_type": "code",
   "execution_count": 1439,
   "id": "08e577ff",
   "metadata": {},
   "outputs": [
    {
     "data": {
      "text/plain": [
       "'Social, Finance, Analytics, Advertising'"
      ]
     },
     "execution_count": 1439,
     "metadata": {},
     "output_type": "execute_result"
    }
   ],
   "source": [
    "# CAN\n",
    "sector_wise_count_CAN.index[2]"
   ]
  },
  {
   "cell_type": "markdown",
   "id": "e9ea5a29",
   "metadata": {},
   "source": [
    "#### 6. Number of investments in the top sector (refer to point 3)"
   ]
  },
  {
   "cell_type": "code",
   "execution_count": 1440,
   "id": "ac000e75",
   "metadata": {},
   "outputs": [
    {
     "data": {
      "text/plain": [
       "7703"
      ]
     },
     "execution_count": 1440,
     "metadata": {},
     "output_type": "execute_result"
    }
   ],
   "source": [
    "# USA\n",
    "sector_wise_count_USA[0]"
   ]
  },
  {
   "cell_type": "code",
   "execution_count": 1441,
   "id": "1a66377a",
   "metadata": {},
   "outputs": [
    {
     "data": {
      "text/plain": [
       "476"
      ]
     },
     "execution_count": 1441,
     "metadata": {},
     "output_type": "execute_result"
    }
   ],
   "source": [
    "# GBR\n",
    "sector_wise_count_GBR[0]"
   ]
  },
  {
   "cell_type": "code",
   "execution_count": 1442,
   "id": "534bde1e",
   "metadata": {},
   "outputs": [
    {
     "data": {
      "text/plain": [
       "297"
      ]
     },
     "execution_count": 1442,
     "metadata": {},
     "output_type": "execute_result"
    }
   ],
   "source": [
    "# CAN\n",
    "sector_wise_count_CAN[0]"
   ]
  },
  {
   "cell_type": "markdown",
   "id": "68288c0f",
   "metadata": {},
   "source": [
    "#### 7. Number of investments in the second-best sector (refer to point 4)"
   ]
  },
  {
   "cell_type": "code",
   "execution_count": 1443,
   "id": "47d7d536",
   "metadata": {},
   "outputs": [
    {
     "data": {
      "text/plain": [
       "7374"
      ]
     },
     "execution_count": 1443,
     "metadata": {},
     "output_type": "execute_result"
    }
   ],
   "source": [
    "# USA\n",
    "sector_wise_count_USA[1]"
   ]
  },
  {
   "cell_type": "code",
   "execution_count": 1444,
   "id": "cde55c35",
   "metadata": {},
   "outputs": [
    {
     "data": {
      "text/plain": [
       "400"
      ]
     },
     "execution_count": 1444,
     "metadata": {},
     "output_type": "execute_result"
    }
   ],
   "source": [
    "# GBR\n",
    "sector_wise_count_GBR[1]"
   ]
  },
  {
   "cell_type": "code",
   "execution_count": 1445,
   "id": "b69602ab",
   "metadata": {},
   "outputs": [
    {
     "data": {
      "text/plain": [
       "296"
      ]
     },
     "execution_count": 1445,
     "metadata": {},
     "output_type": "execute_result"
    }
   ],
   "source": [
    "# CAN\n",
    "sector_wise_count_CAN[1]"
   ]
  },
  {
   "cell_type": "markdown",
   "id": "057a94e1",
   "metadata": {},
   "source": [
    "####  8. Number of investments in the third-best sector (refer to point 5)"
   ]
  },
  {
   "cell_type": "code",
   "execution_count": 1446,
   "id": "a686a78f",
   "metadata": {},
   "outputs": [
    {
     "data": {
      "text/plain": [
       "4843"
      ]
     },
     "execution_count": 1446,
     "metadata": {},
     "output_type": "execute_result"
    }
   ],
   "source": [
    "# USA\n",
    "sector_wise_count_USA[2]"
   ]
  },
  {
   "cell_type": "code",
   "execution_count": 1447,
   "id": "90e2bc52",
   "metadata": {},
   "outputs": [
    {
     "data": {
      "text/plain": [
       "297"
      ]
     },
     "execution_count": 1447,
     "metadata": {},
     "output_type": "execute_result"
    }
   ],
   "source": [
    "# GBR\n",
    "sector_wise_count_GBR[2]"
   ]
  },
  {
   "cell_type": "code",
   "execution_count": 1448,
   "id": "7fa7c784",
   "metadata": {},
   "outputs": [
    {
     "data": {
      "text/plain": [
       "151"
      ]
     },
     "execution_count": 1448,
     "metadata": {},
     "output_type": "execute_result"
    }
   ],
   "source": [
    "# CAN\n",
    "sector_wise_count_CAN[2]"
   ]
  },
  {
   "attachments": {},
   "cell_type": "markdown",
   "id": "687756e7",
   "metadata": {},
   "source": [
    "Let's define a function `country_wise_investment`to find the country-wise, highest investment received company for Top Two Sectors with the help of already created sector-wise count.<br>\n",
    "**Note:** Creating this function to answer question `9 and 10`."
   ]
  },
  {
   "cell_type": "code",
   "execution_count": 1449,
   "id": "4eff6e9a",
   "metadata": {},
   "outputs": [],
   "source": [
    "def country_wise_investment(country_name,postn_of_invt):\n",
    "    if country_name.upper() == 'USA':\n",
    "        if postn_of_invt <= sector_wise_count_USA.count():\n",
    "            invt_position_val = D1_USA[D1_USA.main_sector == sector_wise_count_USA.index[postn_of_invt]].raised_amount_usd.max()\n",
    "            resultant_company = D1_USA[(D1_USA.raised_amount_usd == invt_position_val) & (D1_USA.main_sector == sector_wise_count_USA.index[postn_of_invt])].name\n",
    "            return resultant_company\n",
    "        else:\n",
    "            return '\"position of investment\" out of range'\n",
    "    \n",
    "    elif country_name.upper() == 'GBR':\n",
    "        if postn_of_invt <= sector_wise_count_GBR.count():\n",
    "            invt_position_val = D2_GBR[D2_GBR.main_sector == sector_wise_count_GBR.index[postn_of_invt]].raised_amount_usd.max()\n",
    "            resultant_company = D2_GBR[(D2_GBR.raised_amount_usd == invt_position_val) & (D2_GBR.main_sector == sector_wise_count_GBR.index[postn_of_invt])].name\n",
    "            return resultant_company\n",
    "        else:\n",
    "            return '\"position of investment\" out of range'\n",
    "    elif country_name.upper() == 'CAN':\n",
    "        if postn_of_invt <= sector_wise_count_CAN.count():\n",
    "            invt_position_val = D3_CAN[D3_CAN.main_sector == sector_wise_count_CAN.index[postn_of_invt]].raised_amount_usd.max()\n",
    "            resultant_company = D3_CAN[(D3_CAN.raised_amount_usd == invt_position_val) & (D3_CAN.main_sector == sector_wise_count_CAN.index[postn_of_invt])].name\n",
    "            return resultant_company\n",
    "        else:\n",
    "            return '\"position of investment\" out of range'\n",
    "    else:\n",
    "        return 'Country is not in the top3'\n",
    "\n"
   ]
  },
  {
   "cell_type": "markdown",
   "id": "e5b64241",
   "metadata": {},
   "source": [
    "#### 9. For the top sector count-wise (point 3), which company received the highest investment?"
   ]
  },
  {
   "cell_type": "code",
   "execution_count": 1450,
   "id": "e539c1d9",
   "metadata": {},
   "outputs": [
    {
     "data": {
      "text/plain": [
       "10464    SoFi\n",
       "Name: name, dtype: object"
      ]
     },
     "execution_count": 1450,
     "metadata": {},
     "output_type": "execute_result"
    }
   ],
   "source": [
    "# USA\n",
    "country_wise_investment('USA',0)"
   ]
  },
  {
   "cell_type": "code",
   "execution_count": 1451,
   "id": "b4fac7b9",
   "metadata": {},
   "outputs": [
    {
     "data": {
      "text/plain": [
       "34911    OneWeb\n",
       "Name: name, dtype: object"
      ]
     },
     "execution_count": 1451,
     "metadata": {},
     "output_type": "execute_result"
    }
   ],
   "source": [
    "# GBR\n",
    "country_wise_investment('GBR',0)"
   ]
  },
  {
   "cell_type": "code",
   "execution_count": 1452,
   "id": "ec3c4d06",
   "metadata": {},
   "outputs": [
    {
     "data": {
      "text/plain": [
       "18749    Ram Power\n",
       "Name: name, dtype: object"
      ]
     },
     "execution_count": 1452,
     "metadata": {},
     "output_type": "execute_result"
    }
   ],
   "source": [
    "# CAN\n",
    "country_wise_investment('CAN',0)"
   ]
  },
  {
   "cell_type": "markdown",
   "id": "7aef62a0",
   "metadata": {},
   "source": [
    "#### 10. For the second-best sector count-wise (point 4), which company received the highest investment?"
   ]
  },
  {
   "cell_type": "code",
   "execution_count": 1453,
   "id": "3405d258",
   "metadata": {},
   "outputs": [
    {
     "data": {
      "text/plain": [
       "30818    Freescale Semiconductor\n",
       "Name: name, dtype: object"
      ]
     },
     "execution_count": 1453,
     "metadata": {},
     "output_type": "execute_result"
    }
   ],
   "source": [
    "# USA\n",
    "country_wise_investment('USA',1)"
   ]
  },
  {
   "cell_type": "code",
   "execution_count": 1454,
   "id": "d2051341",
   "metadata": {},
   "outputs": [
    {
     "data": {
      "text/plain": [
       "6641    Immunocore\n",
       "Name: name, dtype: object"
      ]
     },
     "execution_count": 1454,
     "metadata": {},
     "output_type": "execute_result"
    }
   ],
   "source": [
    "# GBR\n",
    "country_wise_investment('GBR',1)"
   ]
  },
  {
   "cell_type": "code",
   "execution_count": 1455,
   "id": "51fb7d7a",
   "metadata": {},
   "outputs": [
    {
     "data": {
      "text/plain": [
       "23977    D2L\n",
       "Name: name, dtype: object"
      ]
     },
     "execution_count": 1455,
     "metadata": {},
     "output_type": "execute_result"
    }
   ],
   "source": [
    "# CAN\n",
    "country_wise_investment('CAN',1)"
   ]
  },
  {
   "cell_type": "markdown",
   "id": "c531dfd6",
   "metadata": {},
   "source": [
    "### <font color=blue> Checkpoint 6: Plots </font>\n",
    "As a final step, let's present our findings to the CEO of Spark Funds. Specifically, the three following plots:\n",
    "#### 1. A plot showing the `representative amount of investment` in each funding type.\n",
    "- For this, I am going to use `bar plot`.\n",
    "- representative amount = `Median`.\n",
    "- funding types = `venture,angel,private equity and seed`."
   ]
  },
  {
   "cell_type": "code",
   "execution_count": 1456,
   "id": "579626ca",
   "metadata": {},
   "outputs": [
    {
     "data": {
      "image/png": "[encoded data removed]",
      "text/plain": [
       "<Figure size 1440x720 with 1 Axes>"
      ]
     },
     "metadata": {
      "needs_background": "light"
     },
     "output_type": "display_data"
    }
   ],
   "source": [
    "# ploting for the representative amount of investment in each funding type.\n",
    "plt.figure(figsize=(20,10))\n",
    "plt.ticklabel_format(style='plain')\n",
    "\n",
    "# Plotting\n",
    "sns.barplot(data= master_df, x=\"funding_round_type\",y=\"raised_amount_usd\",estimator=np.median)\n",
    "\n",
    "# Naming x-axis, y-axis and Title\n",
    "plt.xlabel(\"Funding Type\", size=20)\n",
    "plt.ylabel(\"Representative Amount - Median\", size=15)\n",
    "plt.title(\"Representative Amount of Investment in Each Funding Type\", size=22)\n",
    "\n",
    "plt.show()"
   ]
  },
  {
   "cell_type": "markdown",
   "id": "44165394",
   "metadata": {},
   "source": [
    "As the range of funding preferred by Spark Funds is `5 to 15 million USD`. From the plot, we can see that `median` for `venture` is `5M`, And all the others are <5M or >15M. So I have choosen `venture` as our target funding type and processed with it."
   ]
  },
  {
   "cell_type": "markdown",
   "id": "2a6552c8",
   "metadata": {},
   "source": [
    "#### 2. A plot showing the `top 9 countries` against the `total amount of investments` of funding type `FT`. This should make the `top 3 countries` (Country 1, Country 2, and Country 3) very clear.<br>\n",
    "- I am using `barplot` again.\n",
    "- Funding Type FT = `Venture`\n",
    "- WIth top 9 countries\n",
    "- Adding the English Speaking Country Indicator"
   ]
  },
  {
   "cell_type": "markdown",
   "id": "a51b72bc",
   "metadata": {},
   "source": [
    "Adding the English Speaking Indicator to `top9` dataframe with the help of `country` dataframe I created."
   ]
  },
  {
   "cell_type": "code",
   "execution_count": 1457,
   "id": "1eaabd73",
   "metadata": {},
   "outputs": [],
   "source": [
    "top9_plot = pd.merge(top9,countries,how = \"inner\", on = \"country_code\")"
   ]
  },
  {
   "cell_type": "code",
   "execution_count": 1458,
   "id": "7a0221dd",
   "metadata": {},
   "outputs": [
    {
     "data": {
      "image/png": "[encoded data removed]",
      "text/plain": [
       "<Figure size 1440x720 with 1 Axes>"
      ]
     },
     "metadata": {
      "needs_background": "light"
     },
     "output_type": "display_data"
    }
   ],
   "source": [
    "# ploting for the total amount of investments in each of the 9 countries.\n",
    "plt.figure(figsize=(20,10))\n",
    "\n",
    "# Plotting\n",
    "sns.barplot(data= top9_plot, x=\"country_code\",y=\"raised_amount_usd\",hue='English_Speaking_Ind',estimator=np.sum)\n",
    "\n",
    "# Naming x-axis, y-axis and Title\n",
    "plt.xlabel(\"Country Code\", size=20)\n",
    "plt.ylabel(\"Total Amount Of Investments (in 100 billions)\", size=15)\n",
    "plt.title(\"Top 9 Countries Against The Total Amount of Investments\", size=22)\n",
    "\n",
    "plt.show()"
   ]
  },
  {
   "cell_type": "markdown",
   "id": "1d19a317",
   "metadata": {},
   "source": [
    "From the above barplot, we can clearly see that `USA is dominating`, `CHN comes second` but since it was not a english speaking country, `GBR takes the second place`. And the only english speaking country remaining is CAN, So `CAN` takes `third place`.\n",
    "- First  - USA (United States),\n",
    "- Second - GBR (United Kingdom),\n",
    "- Third  - CAN (Canada)"
   ]
  },
  {
   "cell_type": "markdown",
   "id": "9b6eef68",
   "metadata": {},
   "source": [
    "#### 3. A plot showing the number of investments in the top 3 sectors of the top 3 countries on one chart (for the chosen investment type FT).<br>\n",
    "- I am using `stacked barplot`.\n",
    "- Funding Type FT = `Venture`\n",
    "- top 3 countries = `USA, GBR, CAN`."
   ]
  },
  {
   "cell_type": "markdown",
   "id": "1d4d0e8e",
   "metadata": {},
   "source": [
    "With the help of previous observations, I am creating a dataframe with top 3 sectors of the top 3 countries. And we know that the three sectors are same for all the three countries\n"
   ]
  },
  {
   "cell_type": "code",
   "execution_count": 1459,
   "id": "9df5ee0d",
   "metadata": {},
   "outputs": [],
   "source": [
    "# Since all three cuntries have same three sectors, using USA's top three and filtering the dataframe.\n",
    "Final_df_plot = Final_df[Final_df.main_sector.isin(sector_wise_count_USA.index[0:3])]"
   ]
  },
  {
   "cell_type": "code",
   "execution_count": 1460,
   "id": "00bdd854",
   "metadata": {},
   "outputs": [
    {
     "data": {
      "image/png": "[encoded data removed]",
      "text/plain": [
       "<Figure size 1080x720 with 1 Axes>"
      ]
     },
     "metadata": {
      "needs_background": "light"
     },
     "output_type": "display_data"
    }
   ],
   "source": [
    "# code for annotated barplot\n",
    "plt.figure(figsize=(15, 10))\n",
    "splot = sns.barplot(x=\"country_code\", y=\"raised_amount_usd\", hue=\"main_sector\",\n",
    "                    data=Final_df_plot,estimator=np.count_nonzero)\n",
    "  \n",
    "plt.xlabel(\"Country Code\", size=14)\n",
    "plt.ylabel(\"Number of Investments\", size=14)\n",
    "plt.title(\"Number of Investments in the Top 3 Sectors of the Top 3 Countries\", size=18)\n",
    "\n",
    "for p in splot.patches:\n",
    "    splot.annotate(format(p.get_height()),\n",
    "                   (p.get_x() + p.get_width() / 2., p.get_height()),\n",
    "                   ha='center', va='center',\n",
    "                   xytext=(0, 9),\n",
    "                   textcoords='offset points')\n",
    "\n",
    "plt.show()"
   ]
  },
  {
   "cell_type": "markdown",
   "id": "d9ede9ec",
   "metadata": {},
   "source": [
    "From the plot, we can clearly see the number of investments in the top 3 sectors of the top 3 countries as mentioned below.\n",
    "- USA \n",
    "    1. Others - 7703 \n",
    "    2. Cleantech / Semiconductors - 7374\n",
    "    3. Social, Finance, Analytics, Advertising - 4843\n",
    "<br>\n",
    "- CAN\n",
    "    1. Cleantech / Semiconductors - 297\n",
    "    2. Others - 296\n",
    "    3. Social, Finance, Analytics, Advertising - 151\n",
    "<br>\n",
    "- GBR\n",
    "    1. Others - 476\n",
    "    2. Cleantech / Semiconductors - 400\n",
    "    3. Social, Finance, Analytics, Advertising - 297"
   ]
  },
  {
   "attachments": {
    "image-2.png": {
     "image/png": "[encoded data removed]"
    },
    "image-3.png": {
     "image/png": "[encoded data removed]"
    }
   },
   "cell_type": "markdown",
   "id": "b396a2a2",
   "metadata": {},
   "source": [
    "### Conclusions:\n",
    "- Funding Type falling within the 5-15 million USD range – Venture (based on representative value: Median).\n",
    "- Top Three English Speaking Most Invested Countries:\n",
    "    1. First - USA, \n",
    "    2. Second - GBR, \n",
    "    3. Third - CAN\n",
    "   \n",
    "   <br>\n",
    "    \n",
    "- Top Three Sectors of the Top Three Countries: All the three countries have the same three sectors as most invested among them. Given a table of, Number of investments:\n",
    "![image-2.png](attachment:image-2.png)\n",
    "\n",
    "- Highest Investment Received Company for Top Two Sectors.\n",
    "![image-3.png](attachment:image-3.png)"
   ]
  },
  {
   "cell_type": "markdown",
   "id": "77448333",
   "metadata": {},
   "source": [
    "### With this I am completing my analysis. Hope from this, You would have found the right strategy to investment in. Thank You :)"
   ]
  }
 ],
 "metadata": {
  "kernelspec": {
   "display_name": "Python 3",
   "language": "python",
   "name": "python3"
  },
  "language_info": {
   "codemirror_mode": {
    "name": "ipython",
    "version": 3
   },
   "file_extension": ".py",
   "mimetype": "text/x-python",
   "name": "python",
   "nbconvert_exporter": "python",
   "pygments_lexer": "ipython3",
   "version": "3.8.8"
  }
 },
 "nbformat": 4,
 "nbformat_minor": 5
}
